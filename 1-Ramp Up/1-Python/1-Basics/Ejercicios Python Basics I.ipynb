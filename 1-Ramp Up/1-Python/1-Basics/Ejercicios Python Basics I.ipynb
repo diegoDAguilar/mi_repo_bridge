{
 "cells": [
  {
   "cell_type": "markdown",
   "metadata": {},
   "source": [
    "![imagen](./img/ejercicios.png)"
   ]
  },
  {
   "cell_type": "markdown",
   "metadata": {},
   "source": [
    "# Ejercicios Python Basics I"
   ]
  },
  {
   "cell_type": "markdown",
   "metadata": {},
   "source": [
    "## Ejercicio 1\n",
    "Imprime por pantalla esta cita con el siguiente formato\n",
    "\n",
    "![imagen](./img/frase_Einstein.PNG)"
   ]
  },
  {
   "cell_type": "code",
   "execution_count": 9,
   "metadata": {},
   "outputs": [
    {
     "name": "stdout",
     "output_type": "stream",
     "text": [
      "¿Por qué esta magnífica tecnología científica,\n",
      "\tque ahorra trabajo y nos hace la vida mas fácil,\n",
      "\t\tnos aporta tan poca felicidad?\n",
      "\t\t\tLa repuesta es está, simplemente: porque aún no hemos aprendido a usarla con tino.\n",
      " \"Albert Einstein\" \n"
     ]
    }
   ],
   "source": [
    "print(\"\"\"¿Por qué esta magnífica tecnología científica,\\\n",
    "\\n\\tque ahorra trabajo y nos hace la vida mas fácil,\\\n",
    "\\n\\t\\tnos aporta tan poca felicidad?\\\n",
    "\\n\\t\\t\\tLa repuesta es está, simplemente: porque aún no hemos aprendido a usarla con tino.\\\n",
    "\\n \"Albert Einstein\" \"\"\")"
   ]
  },
  {
   "cell_type": "markdown",
   "metadata": {},
   "source": [
    "## Ejercicio 2\n",
    "1. Escribe el nombre de la calle de tu domicilio\n",
    "2. Escribe el numero de la calle en otra\n",
    "3. Población en una tercera\n",
    "4. Codigo postal en la cuarta variable\n",
    "5. Crea una quinta variable que concatene todas ellas\n",
    "6. Imprimela por pantalla"
   ]
  },
  {
   "cell_type": "code",
   "execution_count": 10,
   "metadata": {},
   "outputs": [
    {
     "name": "stdout",
     "output_type": "stream",
     "text": [
      "Recoletos 15 Madrid 26774\n"
     ]
    }
   ],
   "source": [
    "nom_calle = \"Recoletos\"\n",
    "num_calle = 15\n",
    "pobl = \"Madrid\"\n",
    "cp = 26774\n",
    "total = nom_calle + \" \" + str(num_calle) + \" \" + pobl + \" \" + str(cp)\n",
    "print(total)"
   ]
  },
  {
   "cell_type": "code",
   "execution_count": 11,
   "metadata": {},
   "outputs": [
    {
     "name": "stdout",
     "output_type": "stream",
     "text": [
      "Recoletos 15 Madrid 26774\n"
     ]
    }
   ],
   "source": [
    "nom_calle = \"Recoletos\"\n",
    "num_calle = \"15\"\n",
    "pobl = \"Madrid\"\n",
    "cp = \"26774\"\n",
    "total = nom_calle + \" \" + num_calle + \" \" + pobl + \" \" + cp\n",
    "print(total)"
   ]
  },
  {
   "cell_type": "markdown",
   "metadata": {},
   "source": [
    "## Ejercicio 3\n",
    "Replica el output del ejercicio dos, pero está vez sin usar una variable intermedia que concatene todas las demas. Realiza este ejercicio en una línea, con un  único `print`"
   ]
  },
  {
   "cell_type": "code",
   "execution_count": 12,
   "metadata": {},
   "outputs": [
    {
     "name": "stdout",
     "output_type": "stream",
     "text": [
      "Recoletos 15 Madrid 26774\n"
     ]
    }
   ],
   "source": [
    "print(nom_calle, num_calle, pobl, cp)"
   ]
  },
  {
   "cell_type": "markdown",
   "metadata": {},
   "source": [
    "## Ejercicio 4\n",
    "¿Qué variables están mal escritas y por qué? Realiza primero tu hipótesis y luego ejecuta las variables para comprobarlo. En ese orden :)\n",
    "\n",
    "\n",
    "1. mi_variable = \"Economía\"\n",
    "2. otra_var = \"Ejercicio\n",
    "3. True = \"Ejercicio\"\n",
    "4. mi variab1e = \"Alpha\"\n",
    "5. exec = True\n",
    "6. import = 40\n",
    "7. 81mi_variable = \"Agua\"\n",
    "8. mi_variable10 = 6"
   ]
  },
  {
   "cell_type": "markdown",
   "metadata": {},
   "source": [
    "1. OK\n",
    "2. Faltan comillas\n",
    "3. Palabra reservada\n",
    "4. Mal por el espacio\n",
    "5. Con color, ante la duda, usar otra\n",
    "6. Palabra reservada\n",
    "7. No puedo empezar con numeros\n",
    "8. OK"
   ]
  },
  {
   "cell_type": "markdown",
   "metadata": {},
   "source": [
    "## Ejercicio 5\n",
    "Realiza un conversor de grados Celsius a Fahrenheit. El conversor tiene que recibir el input del usuario y devolver la conversión.\n",
    "\n",
    "La conversión de grados sigue la siguiente fórmula: F = (C × 9 / 5) + 32 "
   ]
  },
  {
   "cell_type": "code",
   "execution_count": 13,
   "metadata": {},
   "outputs": [
    {
     "name": "stdin",
     "output_type": "stream",
     "text": [
      "Introduzca grados celsius:  24\n"
     ]
    },
    {
     "name": "stdout",
     "output_type": "stream",
     "text": [
      "El equivalente en grados Farenheit es 75.2\n"
     ]
    }
   ],
   "source": [
    "C = float(input(\"Introduzca grados celsius: \"))\n",
    "\n",
    "F = 32 + C * (9/5)\n",
    "\n",
    "print(\"El equivalente en grados Farenheit es\", F)"
   ]
  },
  {
   "cell_type": "markdown",
   "metadata": {},
   "source": [
    "## Ejercicio 6\n",
    "Comenta en la medida de lo posible el Ejercicio 5. Será suficiente con poner al menos un comentario de línea, y otro multilínea"
   ]
  },
  {
   "cell_type": "code",
   "execution_count": 14,
   "metadata": {},
   "outputs": [
    {
     "name": "stdin",
     "output_type": "stream",
     "text": [
      "Introduzca grados celsius:  24\n"
     ]
    },
    {
     "name": "stdout",
     "output_type": "stream",
     "text": [
      "El equivalente en grados Farenheit es 75.2\n"
     ]
    }
   ],
   "source": [
    "\"\"\"\n",
    "Calculadora de\n",
    "grados Farenheit\n",
    "\"\"\"\n",
    "C = float(input(\"Introduzca grados celsius: \")) # Input del usuario\n",
    "\n",
    "# Hay que convertir los tipos de los datos\n",
    "F = 32 + C * (9/5)\n",
    "\n",
    "print(\"El equivalente en grados Farenheit es\", F)"
   ]
  },
  {
   "cell_type": "code",
   "execution_count": null,
   "metadata": {},
   "outputs": [],
   "source": []
  }
 ],
 "metadata": {
  "kernelspec": {
   "display_name": "Python 3",
   "language": "python",
   "name": "python3"
  },
  "language_info": {
   "codemirror_mode": {
    "name": "ipython",
    "version": 3
   },
   "file_extension": ".py",
   "mimetype": "text/x-python",
   "name": "python",
   "nbconvert_exporter": "python",
   "pygments_lexer": "ipython3",
   "version": "3.7.6"
  }
 },
 "nbformat": 4,
 "nbformat_minor": 4
}
