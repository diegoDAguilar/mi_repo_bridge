{
 "cells": [
  {
   "cell_type": "markdown",
   "metadata": {},
   "source": [
    "![imagen](./img/ejercicios.png)\n",
    "\n",
    "# Ejercicios Clases y Objetos"
   ]
  },
  {
   "cell_type": "markdown",
   "metadata": {},
   "source": [
    "## Ejercicio 1\n",
    "Somos una empresa que tiene varias tiendas de electrodomesticos. Necesitamos un programa para manejar las tiendas, ver las ventas que han tenido, cuántos empleados hay, etc... Para ello vamos a modelizar la tienda en una clase, que tendrá las siguientes características:\n",
    "* Nombre clase: \"Tienda\"\n",
    "* Atributos comunes:\n",
    "    * Tipo: \"Electrodomésticos\"\n",
    "    * Abierta: True\n",
    "* Atributos propios de cada tienda:\n",
    "    * Nombre - String\n",
    "    * Dirección - String\n",
    "    * Número de empleados - int\n",
    "    * Ventas ultimos 3 meses - Lista de 3 numeros\n",
    "* Método para calcular las ventas de todos los meses, que devuelva un numero con todas las ventas.\n",
    "* Método que calcula la media de ventas de los ultimos meses, por empleado\n",
    "* Método que devuelve en un string el nombre de la tienda, junto con su dirección.\n",
    "* Método que obtiene las ventas del último mes.\n",
    "* Método para dar una proyección de las ventas en caso de haber invertido X dinero en marketing en esa tienda. Siendo X el parámetro de entrada. Si X es menor de 1000, las ventas de los ultimos 3 meses hubiesen sido de (1.2 x ventas), si es mayor o igual de 1000, las ventas hubiesen sido de (1.5 x venta). El método reescribe el atributo de ventas en los últimos 3 meses, y además devuelve las ventas con el aumento.\n",
    "\n",
    "Se pide:\n",
    "1. Implementar la clase \"Tienda\"\n",
    "2. Crear tres tiendas con datos inventados\n",
    "3. Comprueba en al menos una de ellas, todo lo implementado en la clase tienda (sus atributos, media de ventas, ventas/empleado...)\n",
    "3. Calcular las ventas del último mes de todas las tiendas. Para ello usa el bucle `for`\n",
    "4. Imprime por pantalla los nombres de las tiendas cuya dirección lleve el string \"Avenida\"\n",
    "5. Seguro que ya has hecho este apartado... Documenta la clase :)"
   ]
  },
  {
   "cell_type": "code",
   "execution_count": 33,
   "metadata": {},
   "outputs": [],
   "source": [
    "\n",
    "class Tienda:\n",
    "    tipo = \"Electrodomésticos\"\n",
    "    abierta = True\n",
    "    \n",
    "    def __init__(self, nombre2, direccion2, num_empl2, ventas_3_meses2):\n",
    "        '''\n",
    "        Elementos particulares de la tienda:\n",
    "            nombre2: string\n",
    "            direccion2: string\n",
    "            num_empl2: int\n",
    "            ventas_3_meses2: list\n",
    "            \n",
    "        '''\n",
    "        self.nombre = nombre2\n",
    "        self.direccion = direccion2\n",
    "        self.num_empl = num_empl2\n",
    "        self.ventas_3_meses = ventas_3_meses2\n",
    "        \n",
    "    def tot_ventas(self):\n",
    "        return sum(self.ventas_3_meses)\n",
    "\n",
    "    def vent_empl(self):\n",
    "        #return sum(self.ventas_3_meses)/self.num_empleados\n",
    "        return self.tot_ventas()/self.num_empl\n",
    "    \n",
    "    def nom_direcc(self):\n",
    "        return \"Nombre tienda: \" + self.nombre + \"\\nDireccion: \" + self.direccion\n",
    "    \n",
    "    def ventas_ult_mes(self):\n",
    "        return self.ventas_3_meses[-1]\n",
    "    \n",
    "    def proy_marketing(self, X):\n",
    "        \n",
    "        for i in range(len(self.ventas_3_meses)):\n",
    "            \n",
    "            if X < 1000:\n",
    "                self.ventas_3_meses[i] = self.ventas_3_meses[i] * 1.2\n",
    "            else:\n",
    "                self.ventas_3_meses[i] = self.ventas_3_meses[i] * 1.5\n",
    "                \n",
    "        return self.ventas_3_meses\n",
    "    \n",
    "    \n",
    "    "
   ]
  },
  {
   "cell_type": "code",
   "execution_count": 44,
   "metadata": {},
   "outputs": [],
   "source": [
    "\n",
    "class Tienda:\n",
    "    tipo = \"Electrodomésticos\"\n",
    "    abierta = True\n",
    "    \n",
    "    def __init__(self, nombre2, direccion2, num_empl2, ventas_3_meses2):\n",
    "        '''\n",
    "        Elementos particulares de la tienda:\n",
    "            nombre2: string\n",
    "            direccion2: string\n",
    "            num_empl2: int\n",
    "            ventas_3_meses2: list\n",
    "            \n",
    "        '''\n",
    "        self.nombre = nombre2\n",
    "        self.direccion = direccion2\n",
    "        self.num_empl = num_empl2\n",
    "        self.ventas_3_meses = ventas_3_meses2\n",
    "        \n",
    "    def tot_ventas(self):\n",
    "        return sum(self.ventas_3_meses)\n",
    "\n",
    "    def vent_empl(self):\n",
    "        #return sum(self.ventas_3_meses)/self.num_empleados\n",
    "        return self.tot_ventas()/self.num_empl\n",
    "    \n",
    "    def nom_direcc(self):\n",
    "        return \"Nombre tienda: \" + self.nombre + \"\\nDireccion: \" + self.direccion\n",
    "    \n",
    "    def ventas_ult_mes(self):\n",
    "        return self.ventas_3_meses[-1]\n",
    "    \n",
    "    def proy_marketing(self, X):\n",
    "        variable = []\n",
    "        \n",
    "        for i in range(len(self.ventas_3_meses)):\n",
    "            \n",
    "            if X < 1000:\n",
    "                variable.append(self.ventas_3_meses[i] * 1.2)\n",
    "            else:\n",
    "                self.ventas_3_meses[i] = self.ventas_3_meses[i] * 1.5\n",
    "                \n",
    "        return self.ventas_3_meses\n",
    "    \n",
    "    \n",
    "    "
   ]
  },
  {
   "cell_type": "code",
   "execution_count": 45,
   "metadata": {},
   "outputs": [
    {
     "ename": "NameError",
     "evalue": "name 'variable' is not defined",
     "output_type": "error",
     "traceback": [
      "\u001b[1;31m---------------------------------------------------------------------------\u001b[0m",
      "\u001b[1;31mNameError\u001b[0m                                 Traceback (most recent call last)",
      "\u001b[1;32m<ipython-input-45-590ba90f0f8a>\u001b[0m in \u001b[0;36m<module>\u001b[1;34m\u001b[0m\n\u001b[0;32m      1\u001b[0m \u001b[0mtienda1\u001b[0m \u001b[1;33m=\u001b[0m \u001b[0mTienda\u001b[0m\u001b[1;33m(\u001b[0m\u001b[1;34m\"Tien21\"\u001b[0m\u001b[1;33m,\u001b[0m \u001b[1;34m\"Avenida de...\"\u001b[0m\u001b[1;33m,\u001b[0m \u001b[1;36m5\u001b[0m\u001b[1;33m,\u001b[0m \u001b[1;33m[\u001b[0m\u001b[1;36m2000\u001b[0m\u001b[1;33m,\u001b[0m \u001b[1;36m1500\u001b[0m\u001b[1;33m,\u001b[0m \u001b[1;36m3000\u001b[0m\u001b[1;33m]\u001b[0m\u001b[1;33m)\u001b[0m\u001b[1;33m\u001b[0m\u001b[1;33m\u001b[0m\u001b[0m\n\u001b[0;32m      2\u001b[0m \u001b[0mtienda1\u001b[0m\u001b[1;33m.\u001b[0m\u001b[0mproy_marketing\u001b[0m\u001b[1;33m(\u001b[0m\u001b[1;36m1000\u001b[0m\u001b[1;33m)\u001b[0m\u001b[1;33m\u001b[0m\u001b[1;33m\u001b[0m\u001b[0m\n\u001b[1;32m----> 3\u001b[1;33m \u001b[0mvariable\u001b[0m\u001b[1;33m\u001b[0m\u001b[1;33m\u001b[0m\u001b[0m\n\u001b[0m",
      "\u001b[1;31mNameError\u001b[0m: name 'variable' is not defined"
     ]
    }
   ],
   "source": [
    "tienda1 = Tienda(\"Tien21\", \"Avenida de...\", 5, [2000, 1500, 3000])\n",
    "tienda1.proy_marketing(1000)\n",
    "variable"
   ]
  },
  {
   "cell_type": "code",
   "execution_count": 34,
   "metadata": {},
   "outputs": [
    {
     "data": {
      "text/plain": [
       "'Tien21'"
      ]
     },
     "execution_count": 34,
     "metadata": {},
     "output_type": "execute_result"
    }
   ],
   "source": [
    "tienda1 = Tienda(\"Tien21\", \"Avenida de...\", 5, [2000, 1500, 3000])\n",
    "tienda1.nombre"
   ]
  },
  {
   "cell_type": "code",
   "execution_count": 31,
   "metadata": {},
   "outputs": [
    {
     "name": "stdout",
     "output_type": "stream",
     "text": [
      "Tien21\n",
      "Avenida de...\n",
      "True\n",
      "6500\n",
      "1300.0\n",
      "Nombre tienda: Tien21\n",
      "Direccion: Avenida de...\n",
      "3000\n",
      "[3000.0, 2250.0, 4500.0]\n"
     ]
    }
   ],
   "source": [
    "tienda1 = Tienda(\"Tien21\", \"Avenida de...\", 5, [2000, 1500, 3000])\n",
    "\n",
    "print(tienda1.nombre)\n",
    "print(tienda1.direccion)\n",
    "print(tienda1.abierta)\n",
    "\n",
    "print(tienda1.tot_ventas())\n",
    "print(tienda1.vent_empl())\n",
    "print(tienda1.nom_direcc())\n",
    "print(tienda1.ventas_ult_mes())\n",
    "print(tienda1.proy_marketing(10001))"
   ]
  },
  {
   "cell_type": "code",
   "execution_count": 40,
   "metadata": {},
   "outputs": [],
   "source": [
    "tienda1 = Tienda(\"Tienda 1\", \"Avenida de...1\", 5, [2000, 1500, 3000])\n",
    "tienda2 = Tienda(\"Tienda 2\", \"Avenida de...2\", 10, [200, 150, 300])\n",
    "tienda3 = Tienda(\"Tienda 3\", \"de...3\", 15, [20, 15, 30])"
   ]
  },
  {
   "cell_type": "code",
   "execution_count": 41,
   "metadata": {},
   "outputs": [
    {
     "name": "stdout",
     "output_type": "stream",
     "text": [
      "3000\n",
      "3000\n",
      "300\n",
      "300\n",
      "30\n",
      "30\n"
     ]
    }
   ],
   "source": [
    "lista_tiendas = [tienda1, tienda2, tienda3]\n",
    "\n",
    "for i in lista_tiendas:\n",
    "    print(i.ventas_ult_mes())\n",
    "    print(i.ventas_3_meses[-1])"
   ]
  },
  {
   "cell_type": "code",
   "execution_count": 43,
   "metadata": {},
   "outputs": [
    {
     "name": "stdout",
     "output_type": "stream",
     "text": [
      "Avenida de...1\n",
      "Tienda 1\n",
      "Avenida de...2\n",
      "Tienda 2\n"
     ]
    }
   ],
   "source": [
    "for i in lista_tiendas:\n",
    "    if \"Avenida\" in i.direccion:\n",
    "        print(i.direccion)\n",
    "        print(i.nombre)"
   ]
  },
  {
   "cell_type": "markdown",
   "metadata": {},
   "source": [
    "## Ejercicio 2\n",
    "En este ejercicio vamos a implementar una clase *Perro* en Python. La clase tiene las siguientes características:\n",
    "* Cosas que sabemos seguro que tiene un perro\n",
    "    * Tiene 4 patas\n",
    "    * 2 orejas\n",
    "    * 2 ojos\n",
    "    * Una velocidad de 0. Por defecto, el perro está parado\n",
    "* Cuando se inicialice:\n",
    "    * El perro será de una determinada raza\n",
    "    * Por defecto tendrá pelo \"Marrón\", a no ser que se diga lo contrario.\n",
    "    * Por defecto no tendrá dueño, a no ser que se diga lo contrario.\n",
    "    \n",
    "* Dispondrá también de un método llamado andar, que tiene un argumento de entrada (aumento_velocidad). Este valor se le sumará a la velocidad que ya llevaba el perro.\n",
    "* Necesita otro método (parar), donde pondremos la velocidad a 0.\n",
    "* Otro método llamado \"ladrar\", que tendrá un argumento de entrada, y la salida será el siguiente string: \"GUAU!\" + el argumento de entrada.\n",
    "\n",
    "\n",
    "Se pide:\n",
    "* Implementa la clase *Perro*\n",
    "* Crea un objeto de tipo *Perro*, sin dueño\n",
    "* Comprueba que están bien todos sus atributos\n",
    "* Prueba que ande, y comprueba su velocidad\n",
    "* Páralo\n",
    "* Documenta la clase *Perro*"
   ]
  },
  {
   "cell_type": "code",
   "execution_count": 65,
   "metadata": {},
   "outputs": [],
   "source": [
    "class Perro:\n",
    "    \n",
    "    \n",
    "    def __init__(self, raza, pelo = \"Marron\", duenio = None):\n",
    "        self.num_patas = 4\n",
    "        self.num_orejas = 2\n",
    "        self.num_ojos = 2\n",
    "        self.velocidad = 0\n",
    "        self.raza = raza\n",
    "        self.pelo = pelo\n",
    "        self.duenio = duenio\n",
    "        \n",
    "        \n",
    "    def andar(self, aumento_velocidad):\n",
    "        self.velocidad = self.velocidad + aumento_velocidad\n",
    "        \n",
    "    def parar(self):\n",
    "        self.velocidad = 0\n",
    "        \n",
    "    def ladrar(self, ladrido):\n",
    "        return \"GUAU: \" + ladrido\n"
   ]
  },
  {
   "cell_type": "code",
   "execution_count": 66,
   "metadata": {},
   "outputs": [],
   "source": [
    "perro1 = Perro(\"Golden\")\n",
    "#perro2 = Perro(raza = \"San Bernardo\", duenio =  \"Dani\")\n",
    "perro2 = Perro(\"San Bernardo\", \"Negro\", \"Dani\")\n",
    "#perro2 = Perro(raza = \"San Bernardo\", duenio =  \"Dani\", pelo = \"Negro\")\n",
    "#perro2 = Perro(\"San Bernardo\", \"Dani\")"
   ]
  },
  {
   "cell_type": "code",
   "execution_count": 59,
   "metadata": {},
   "outputs": [
    {
     "name": "stdout",
     "output_type": "stream",
     "text": [
      "15\n",
      "20\n",
      "30\n",
      "0\n"
     ]
    }
   ],
   "source": [
    "print(perro1.velocidad)\n",
    "perro1.andar(5)\n",
    "print(perro1.velocidad)\n",
    "perro1.andar(5)\n",
    "perro1.andar(5)\n",
    "print(perro1.velocidad)\n",
    "perro1.parar()\n",
    "print(perro1.velocidad)"
   ]
  },
  {
   "cell_type": "code",
   "execution_count": 62,
   "metadata": {},
   "outputs": [
    {
     "data": {
      "text/plain": [
       "'GUAU: Dame de comer'"
      ]
     },
     "execution_count": 62,
     "metadata": {},
     "output_type": "execute_result"
    }
   ],
   "source": [
    "perro1.ladrar(\"Dame de comer\")"
   ]
  },
  {
   "cell_type": "code",
   "execution_count": 67,
   "metadata": {},
   "outputs": [
    {
     "data": {
      "text/plain": [
       "{'num_patas': 4,\n",
       " 'num_orejas': 2,\n",
       " 'num_ojos': 2,\n",
       " 'velocidad': 0,\n",
       " 'raza': 'Golden',\n",
       " 'pelo': 'Marron',\n",
       " 'duenio': None}"
      ]
     },
     "execution_count": 67,
     "metadata": {},
     "output_type": "execute_result"
    }
   ],
   "source": [
    "vars(perro1)"
   ]
  },
  {
   "cell_type": "code",
   "execution_count": null,
   "metadata": {},
   "outputs": [],
   "source": []
  }
 ],
 "metadata": {
  "kernelspec": {
   "display_name": "Python 3",
   "language": "python",
   "name": "python3"
  },
  "language_info": {
   "codemirror_mode": {
    "name": "ipython",
    "version": 3
   },
   "file_extension": ".py",
   "mimetype": "text/x-python",
   "name": "python",
   "nbconvert_exporter": "python",
   "pygments_lexer": "ipython3",
   "version": "3.7.6"
  }
 },
 "nbformat": 4,
 "nbformat_minor": 4
}
