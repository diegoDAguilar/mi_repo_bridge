{
 "cells": [
  {
   "cell_type": "markdown",
   "metadata": {},
   "source": [
    "![imagen](./img/monty_hall.jpg)\n",
    "# Ejercicio Monty Hall\n",
    "Implementa un programa que simule el problema de las puertas del concurso de Monty Hall. El programa tendrá un parámetro (cambiar o no cambiar puerta).\n",
    "\n",
    "Una vez lo tengas creado, ejecútalo iterativamente, primero cambiando la puerta, y luego sin cambiar, para así observar cuántas veces aciertas o te equivocas en cada caso.\n",
    "\n",
    "Recuerda que en el programa hay tres puertas, en una hay un coche y en las otras dos hay cabras. El concursante elige una puerta, y acto seguido el presentador abre otra puerta donde hay una cabra. A continuación el presentador pregunta si el concursante quiere continuar con la decisión original, o cambiar de puerta. ¿Qué harías? Demuestra tu hipótesis con código y estadística."
   ]
  },
  {
   "cell_type": "code",
   "execution_count": 7,
   "metadata": {},
   "outputs": [],
   "source": [
    "# Para elegir una puerta aleatoriamente utiliza el siguiente codigo\n",
    "# Escoge aleatoriamente un numero del 1 al 3, ambos incluidos.\n",
    "import numpy as np\n",
    "puerta = np.random.randint(1,4)"
   ]
  },
  {
   "cell_type": "code",
   "execution_count": null,
   "metadata": {},
   "outputs": [],
   "source": [
    "numero_de_repeticiones = 100000\n",
    "lista =[]\n",
    "for i in range(numero_de_repeticiones):\n",
    "    lista.append(jugar(cambiar=False))\n",
    "    \n",
    "#print(lista)\n",
    "print(\"El concursante gana en\", lista.count(True),\"ocasiones\")\n",
    "print(\"El concursante pierde en\",lista.count(False),\"ocasiones\")"
   ]
  },
  {
   "cell_type": "code",
   "execution_count": null,
   "metadata": {},
   "outputs": [],
   "source": [
    "numero_de_repeticiones = 100000\n",
    "lista =[]\n",
    "for i in range(numero_de_repeticiones):\n",
    "    lista.append(jugar(cambiar=True))\n",
    "    \n",
    "#print(lista)\n",
    "print(\"El concursante gana en\", lista.count(True),\"ocasiones\")\n",
    "print(\"El concursante pierde en\",lista.count(False),\"ocasiones\")"
   ]
  },
  {
   "cell_type": "code",
   "execution_count": null,
   "metadata": {},
   "outputs": [],
   "source": [
    "# Montad 3 puertas (1, 2, 3). Sabemos cual es coche y cual es cabra\n",
    "\n",
    "# Elegid ALEATORIAMENTE\n",
    "\n",
    "# Descartad una cabra.\n",
    "    # Si cambio: elijo la puerta que me queda (no es la descartada, ni la elegida en p. lugar)\n",
    "    # Si no cambio de puerta: (continuo con la puerta elegida en p.lugar)\n",
    "\n",
    "# Compruebo si he acertado. Devuelve un booleano (True -> Gano, False -> Pierdo)"
   ]
  },
  {
   "cell_type": "code",
   "execution_count": null,
   "metadata": {},
   "outputs": [],
   "source": [
    "puerta_ganadora = np.random.randint(1,4)\n",
    "puerta_elegida = np.random.randint(1,4)"
   ]
  }
 ],
 "metadata": {
  "kernelspec": {
   "display_name": "Python 3",
   "language": "python",
   "name": "python3"
  },
  "language_info": {
   "codemirror_mode": {
    "name": "ipython",
    "version": 3
   },
   "file_extension": ".py",
   "mimetype": "text/x-python",
   "name": "python",
   "nbconvert_exporter": "python",
   "pygments_lexer": "ipython3",
   "version": "3.7.6"
  }
 },
 "nbformat": 4,
 "nbformat_minor": 4
}
