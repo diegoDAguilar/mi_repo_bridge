{
 "cells": [
  {
   "cell_type": "markdown",
   "metadata": {},
   "source": [
    "![imagen](./img/ejercicios.png)"
   ]
  },
  {
   "cell_type": "markdown",
   "metadata": {},
   "source": [
    "# Ejercicios Álgebra\n",
    "## Ecuaciones lineales\n",
    "Para la resolución de ejercicios tendrás que usar la función `linalg.solve` del módulo `numpy`:\n",
    "\n",
    "```Python\n",
    "A = np.array([[a, b],\n",
    "              [c, d]])\n",
    "\n",
    "b = np.array([e, f])\n",
    "\n",
    "x = np.linalg.solve(A, b)\n",
    "\n",
    "```"
   ]
  },
  {
   "cell_type": "markdown",
   "metadata": {},
   "source": [
    "### Ejercicio 1\n",
    "Encontrar dos números cuya suma sea 45 y cuya resta sea 21."
   ]
  },
  {
   "cell_type": "code",
   "execution_count": 8,
   "metadata": {},
   "outputs": [
    {
     "name": "stdout",
     "output_type": "stream",
     "text": [
      "[33. 12.]\n"
     ]
    }
   ],
   "source": [
    "import numpy as np\n",
    "C1 = np.array([[1,1],\n",
    "               [1,-1]])\n",
    "C2 = np.array([45,21])\n",
    "\n",
    "x = np.linalg.solve(C1,C2)\n",
    "print(x)"
   ]
  },
  {
   "cell_type": "markdown",
   "metadata": {},
   "source": [
    "### Ejercicio 2\n",
    "Hallar un número de dos cifras sabiendo que la suma de las cifras es 12 y que la primera de ellas es el triple de la segunda."
   ]
  },
  {
   "cell_type": "code",
   "execution_count": 20,
   "metadata": {},
   "outputs": [
    {
     "name": "stdout",
     "output_type": "stream",
     "text": [
      "93\n"
     ]
    }
   ],
   "source": [
    "# a + b = 12\n",
    "# 3a -b = 0\n",
    "\n",
    "C1 = np.array([[1,1], [3,-1]])\n",
    "C2 = np.array([12,0])\n",
    "\n",
    "x = sorted(np.linalg.solve(C1,C2), reverse=True)\n",
    "tmp2 = f'{int(x[0])}{int(x[1])}'\n",
    "print(tmp2)"
   ]
  },
  {
   "cell_type": "markdown",
   "metadata": {},
   "source": [
    "### Ejercicio 3\n",
    "Alberto y su padre se llevan 25 años de edad. Calcular la edad de Alberto sabiendo que dentro de 15 años la edad de su padre será el doble que la suya."
   ]
  },
  {
   "cell_type": "code",
   "execution_count": 26,
   "metadata": {},
   "outputs": [
    {
     "name": "stdout",
     "output_type": "stream",
     "text": [
      "[10. 35.]\n",
      "[40. 65.]\n"
     ]
    }
   ],
   "source": [
    "# -a + b = 25\n",
    "# b + 15 = 2*(a+15) -> -2a + b = 15\n",
    "\n",
    "C1 = np.array([[-1,1], [-2,1]])\n",
    "C2 = np.array([25,15])\n",
    "\n",
    "x = np.linalg.solve(C1,C2)\n",
    "print(x)\n",
    "\n",
    "# suponiendo que son 15 anios desde la edad actual\n",
    "# - a + b = 25\n",
    "#  2a -b = 15\n",
    "C1 = np.array([[-1,1], [2,-1]])\n",
    "C2 = np.array([25,15])\n",
    "\n",
    "x = np.linalg.solve(C1,C2)\n",
    "print(x)"
   ]
  },
  {
   "cell_type": "markdown",
   "metadata": {},
   "source": [
    "### Ejercicio 4\n",
    "Hallar un número de tres cifras sabiendo que la suma de sus cifras es 11, que la suma de la primera y la tercera cifra es 5 y que la segunda cifra es el doble de la tercera."
   ]
  },
  {
   "cell_type": "code",
   "execution_count": 27,
   "metadata": {},
   "outputs": [
    {
     "name": "stdout",
     "output_type": "stream",
     "text": [
      "[3. 6. 2.]\n"
     ]
    }
   ],
   "source": [
    "# a + b + c = 11\n",
    "# a + c = 5\n",
    "# b - 3c = 0\n",
    "\n",
    "C1 = np.array([[1,1,1], [1,0,1], [0,1,-3]])\n",
    "C2 = np.array([11,5,0])\n",
    "\n",
    "x = np.linalg.solve(C1,C2)\n",
    "print(x) # sol 2 6 3"
   ]
  },
  {
   "cell_type": "markdown",
   "metadata": {},
   "source": [
    "### Ejercicion 5\n",
    "En un aula, la asignatura de gimnasia la han aprobado el 62,5% de las alumnas y el 80% de los alumnos, mientras que la asignatura de historia la han aprobado 87,5% de las alumnas y el 60% de los alumnos:\n",
    "\n",
    "| |Gimnasia|Historia|\n",
    "|----|----|----|\n",
    "|Alumnas|62,5%|87,5%|\n",
    "|Alumnos|80%|60%|\n",
    "|Total|26|26|"
   ]
  },
  {
   "cell_type": "code",
   "execution_count": 28,
   "metadata": {},
   "outputs": [
    {
     "name": "stdout",
     "output_type": "stream",
     "text": [
      "[16. 20.]\n"
     ]
    }
   ],
   "source": [
    "# .625a + .80b = 26\n",
    "# .875a + .60b = 26\n",
    "\n",
    "C1 = np.array([[.625,.8], [.875,.60]])\n",
    "C2 = np.array([26,26])\n",
    "\n",
    "x = np.linalg.solve(C1,C2)\n",
    "print(x)\n",
    "\n",
    "\n",
    "# Cuantos chicos y chicas hay en la clase\n",
    "\n",
    "\n",
    "x = np.linalg.solve(C1,C2)\n",
    "print(x)"
   ]
  },
  {
   "cell_type": "code",
   "execution_count": 34,
   "metadata": {},
   "outputs": [
    {
     "name": "stdout",
     "output_type": "stream",
     "text": [
      "[1, 2, 3]\n"
     ]
    }
   ],
   "source": [
    "a = [1.,2.2,3.6]\n",
    "\n",
    "b = list(map(lambda x : int(x), a))\n",
    "print(b)"
   ]
  }
 ],
 "metadata": {
  "kernelspec": {
   "display_name": "Python 3",
   "language": "python",
   "name": "python3"
  },
  "language_info": {
   "codemirror_mode": {
    "name": "ipython",
    "version": 3
   },
   "file_extension": ".py",
   "mimetype": "text/x-python",
   "name": "python",
   "nbconvert_exporter": "python",
   "pygments_lexer": "ipython3",
   "version": "3.8.3"
  }
 },
 "nbformat": 4,
 "nbformat_minor": 4
}
