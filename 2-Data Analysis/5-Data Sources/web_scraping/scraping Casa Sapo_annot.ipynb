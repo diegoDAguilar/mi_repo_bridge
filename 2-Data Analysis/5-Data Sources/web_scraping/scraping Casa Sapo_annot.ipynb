{
 "cells": [
  {
   "cell_type": "code",
   "execution_count": 23,
   "metadata": {},
   "outputs": [],
   "source": [
    "from bs4 import BeautifulSoup\n",
    "from requests import get\n",
    "import pandas as pd\n",
    "import itertools\n",
    "import matplotlib.pyplot as plt\n",
    "import seaborn as sns\n",
    "sns.set()\n",
    "\n",
    "\n",
    "from urllib.request import urlopen"
   ]
  },
  {
   "cell_type": "markdown",
   "metadata": {},
   "source": [
    "La solicitud de cabecera del Agente de Usuario contiene una cadena característica que permite identificar el protocolo de red  que ayuda a descubrir  el tipo de aplicación, sistema operativo, provedor del software o laversión del software de la petición del agente de usuario."
   ]
  },
  {
   "cell_type": "code",
   "execution_count": 24,
   "metadata": {},
   "outputs": [],
   "source": [
    "headers = ({'User-Agent':\n",
    "            'Mozilla/5.0 (Windows NT 6.1) AppleWebKit/537.36 (KHTML, like Gecko) Chrome/41.0.2228.0 Safari/537.36'})"
   ]
  },
  {
   "cell_type": "markdown",
   "metadata": {},
   "source": [
    "Tenemos un objeto Response. Podemos obtener toda la información que necesitamos a partir de este objeto."
   ]
  },
  {
   "cell_type": "code",
   "execution_count": 25,
   "metadata": {},
   "outputs": [],
   "source": [
    "sapo = \"https://casa.sapo.pt/comprar-apartamentos/cascais/\"\n",
    "\n",
    "response = get(sapo, headers = headers)"
   ]
  },
  {
   "cell_type": "code",
   "execution_count": 58,
   "metadata": {},
   "outputs": [
    {
     "name": "stdout",
     "output_type": "stream",
     "text": [
      "<Response [200]>\n"
     ]
    }
   ],
   "source": [
    "print(response) # un 200 es una buena señal :D"
   ]
  },
  {
   "cell_type": "markdown",
   "metadata": {},
   "source": [
    "response.text returns the content of the response, in unicode. Basically, it refers to Binary Response content.\n",
    "this response object would be used to access certain features such as content, headers, etc."
   ]
  },
  {
   "cell_type": "code",
   "execution_count": 27,
   "metadata": {},
   "outputs": [
    {
     "name": "stdout",
     "output_type": "stream",
     "text": [
      "\r\n",
      "\r\n",
      "<!DOCTYPE html>\r\n",
      "\r\n",
      "<html lang=\"pt\">\r\n",
      "<head><title>\r\n",
      "\tCasas para Venda, Apartamentos em Cascais, CASA SAPO - Portal Nacional de Imobiliário\r\n",
      "</title><meta name=\"author\" content=\"CASA SAPO - Portal Nacional de Imobiliário - Janela Digital SA\" />\r\n",
      "    <meta name=\"application-name\" content=\"CASA SAPO - Portal Nacional de Imobiliário\" data-copyright=\"Janela Digital SA\" data-generated-time=\"15/10/2020 19:17\" />\r\n",
      "    \r\n",
      "<meta name=\"content-language\" content=\"pt\" />\r\n",
      "<meta name=\"viewport\" content=\"width=device-width, initial-scale=1.0\" />\r\n",
      "<meta name=\"description\" content=\"Casas para Venda, 3020 Apartamentos em Cascais, Deseja comprar casa? No maior Portal Imobiliário Nacional temos milhares de apartamentos e moradias em Lisboa, no Porto e por todo o país.\" />\r\n",
      "<meta name=\"keywords\" content=\"Casas para Venda, Apartamentos em Cascais, venda, compra, comprar, casas, imóveis, apartamentos, moradias, terrenos, porto, lisboa\" />\r\n",
      "<meta name=\"referrer\" content=\"always\" />\r\n",
      "<link rel=\"alternate\" t\n"
     ]
    }
   ],
   "source": [
    "print(response.text[:1000])"
   ]
  },
  {
   "cell_type": "code",
   "execution_count": 28,
   "metadata": {},
   "outputs": [],
   "source": [
    "html_soup = BeautifulSoup(response.text, 'html.parser')"
   ]
  },
  {
   "cell_type": "markdown",
   "metadata": {},
   "source": [
    "Beautiful Soup picks the text from the response and parses the information in a way that makes it easier for you to navigate in its structure and get its contents."
   ]
  },
  {
   "cell_type": "code",
   "execution_count": 29,
   "metadata": {},
   "outputs": [],
   "source": [
    "house_containers = html_soup.find_all('div', class_= \"searchResultProperty\")"
   ]
  },
  {
   "cell_type": "markdown",
   "metadata": {},
   "source": [
    "findall() finds *all* the matches and returns them as a list of strings, with each string representing one match. "
   ]
  },
  {
   "cell_type": "code",
   "execution_count": 30,
   "metadata": {},
   "outputs": [
    {
     "data": {
      "text/plain": [
       "[<span class=\"titleG3\">Apartamento T3 Sao Domingos Rana</span>,\n",
       " <span>\n",
       "                         Apartamento T3, Caparide, São Domingos de Rana, Cascais, Lisboa\n",
       "                     </span>,\n",
       " <span class=\"btnContactPVPI\" id=\"MC_PropertyInList_repProperties_btnContactPVPINormal_0\" onclick=\"ShowContactForm('f48f5a18-a95d-11e9-980d-060000000052', '13', '5', true, true, '677040'); return false;\" style=\"z-index: 9999;\" title=\"Contacte Anunciante\">Contacte Anunciante</span>,\n",
       " <span>360 000 <strong title=\"Euro\">€</strong></span>]"
      ]
     },
     "execution_count": 30,
     "metadata": {},
     "output_type": "execute_result"
    }
   ],
   "source": [
    "first = house_containers[0]\n",
    "first.find_all(\"span\")"
   ]
  },
  {
   "cell_type": "markdown",
   "metadata": {},
   "source": [
    "First va a tener la estructura de nuestra primera casa, sacada de house_containers"
   ]
  },
  {
   "cell_type": "markdown",
   "metadata": {},
   "source": [
    "### Obtenemos el precio de la vivienda"
   ]
  },
  {
   "cell_type": "code",
   "execution_count": 32,
   "metadata": {},
   "outputs": [
    {
     "data": {
      "text/plain": [
       "'360\\xa0000 €'"
      ]
     },
     "execution_count": 32,
     "metadata": {},
     "output_type": "execute_result"
    }
   ],
   "source": [
    "var_1 = first.find_all(\"span\")[3].text\n",
    "var_1"
   ]
  },
  {
   "cell_type": "code",
   "execution_count": 33,
   "metadata": {},
   "outputs": [
    {
     "data": {
      "text/plain": [
       "'360000 €'"
      ]
     },
     "execution_count": 33,
     "metadata": {},
     "output_type": "execute_result"
    }
   ],
   "source": [
    "var_1 = var_1.replace('\\xa0', '')\n",
    "var_1"
   ]
  },
  {
   "cell_type": "code",
   "execution_count": 34,
   "metadata": {},
   "outputs": [],
   "source": [
    "# Iteramos con el itertools. Takewhile se queda con aquello que es true (is digit devuelve true/false)\n",
    "var_1 = int(''.join(itertools.takewhile(str.isdigit, var_1)))"
   ]
  },
  {
   "cell_type": "code",
   "execution_count": 35,
   "metadata": {},
   "outputs": [
    {
     "name": "stdout",
     "output_type": "stream",
     "text": [
      "360000 <class 'int'>\n"
     ]
    }
   ],
   "source": [
    "print(var_1, type(var_1))"
   ]
  },
  {
   "cell_type": "markdown",
   "metadata": {},
   "source": [
    "### Obtenemos características de la casa"
   ]
  },
  {
   "cell_type": "code",
   "execution_count": 36,
   "metadata": {},
   "outputs": [
    {
     "data": {
      "text/plain": [
       "'\\r\\n                    Caparide, São Domingos de Rana, Cascais, Lisboa\\r\\n                '"
      ]
     },
     "execution_count": 36,
     "metadata": {},
     "output_type": "execute_result"
    }
   ],
   "source": [
    "#Location\n",
    "location = first.find_all('p', class_ = \"searchPropertyLocation\")[0].text\n",
    "location"
   ]
  },
  {
   "cell_type": "code",
   "execution_count": 41,
   "metadata": {},
   "outputs": [
    {
     "data": {
      "text/plain": [
       "'Caparide'"
      ]
     },
     "execution_count": 41,
     "metadata": {},
     "output_type": "execute_result"
    }
   ],
   "source": [
    "#Find() devuelve el índice del caracter que encuentra\n",
    "# si no encuentra devuelve -1\n",
    "location[22:location.find(',')]"
   ]
  },
  {
   "cell_type": "code",
   "execution_count": 42,
   "metadata": {},
   "outputs": [
    {
     "data": {
      "text/plain": [
       "<p>93m²</p>"
      ]
     },
     "execution_count": 42,
     "metadata": {},
     "output_type": "execute_result"
    }
   ],
   "source": [
    "#tamaño en m2\n",
    "first.find_all('p')[7]"
   ]
  },
  {
   "cell_type": "code",
   "execution_count": 43,
   "metadata": {},
   "outputs": [
    {
     "data": {
      "text/plain": [
       "[]"
      ]
     },
     "execution_count": 43,
     "metadata": {},
     "output_type": "execute_result"
    }
   ],
   "source": [
    "#Obtener fecha de publicación del anuncio\n",
    "first.find_all('div', class_=\"searchPropertyDate\")"
   ]
  },
  {
   "cell_type": "code",
   "execution_count": 87,
   "metadata": {},
   "outputs": [],
   "source": [
    "#Fecha del post\n",
    "#pd.to_datetime(first.find_all('div', class_=\"searchPropertyDate\")[0].text[3:10])"
   ]
  },
  {
   "cell_type": "code",
   "execution_count": 64,
   "metadata": {},
   "outputs": [
    {
     "data": {
      "text/plain": [
       "'Apartamento T3 novo em CAPARIDE em prédio com projecto de arquitectura contemporânea, num condomínio intimista, com 4 apartamentos T3. Situado em São Domingos de Rana, em zona calma e bem localizado a 5 Km das praias de Sã'"
      ]
     },
     "execution_count": 64,
     "metadata": {},
     "output_type": "execute_result"
    }
   ],
   "source": [
    "#Short description\n",
    "first.find_all('p', class_=\"searchPropertyDescription\")[0].text[22:-25]"
   ]
  },
  {
   "cell_type": "markdown",
   "metadata": {},
   "source": [
    "Estos ejemplos deberían ser suficientes para que hagamos nuestra propia investigación. Se aprende mucho con solo probar con la estructura html y manipular los valores que se devuelven, hasta que obtenemos lo que queremos."
   ]
  },
  {
   "cell_type": "markdown",
   "metadata": {},
   "source": [
    "### Continuamos cogiendo todos los links"
   ]
  },
  {
   "cell_type": "code",
   "execution_count": 45,
   "metadata": {},
   "outputs": [
    {
     "name": "stdout",
     "output_type": "stream",
     "text": [
      "https://gespub.casa.sapo.pt/v3/webinterface/client/counter.aspx?p=677040,677039&c=1&MCA=1&TW=152&BU=1&l=https%3a%2f%2fcasa.sapo.pt%2fcomprar-apartamento-t3-cascais-sao-domingos-de-rana-caparide-f48f5a18-a95d-11e9-980d-060000000052.html%3fg3pid%3d677040\n",
      "https://gespub.casa.sapo.pt/v3/webinterface/client/counter.aspx?p=677040,677039&c=1&MCA=1&TW=152&BU=1&l=https%3a%2f%2fcasa.sapo.pt%2fcomprar-apartamento-t3-cascais-sao-domingos-de-rana-caparide-f48f5a18-a95d-11e9-980d-060000000052.html%3fg3pid%3d677040\n",
      "/agencia/afinest-luxury-real-estate/?cl=11398&sys=5\n",
      "https://gespub.casa.sapo.pt/v3/webinterface/client/counter.aspx?p=677040,677039&c=1&MCA=1&TW=152&BU=1&l=https%3a%2f%2fcasa.sapo.pt%2fcomprar-apartamento-t3-cascais-sao-domingos-de-rana-caparide-f48f5a18-a95d-11e9-980d-060000000052.html%3fg3pid%3d677040\n",
      "https://gespub.casa.sapo.pt/v3/webinterface/client/counter.aspx?p=677040,677039&c=1&MCA=1&TW=152&BU=1&l=https%3a%2f%2fcasa.sapo.pt%2fcomprar-apartamento-t3-cascais-sao-domingos-de-rana-caparide-f48f5a18-a95d-11e9-980d-060000000052.html%3fg3pid%3d677040\n"
     ]
    }
   ],
   "source": [
    "# Para coger todos los links\n",
    "for url in first.find_all('a'):\n",
    "    print(url.get('href'))"
   ]
  },
  {
   "cell_type": "code",
   "execution_count": 59,
   "metadata": {},
   "outputs": [],
   "source": [
    "#Obtener todos los links\n",
    "#first.find_all('a')[0].get('href')[0:-6]"
   ]
  },
  {
   "cell_type": "code",
   "execution_count": 47,
   "metadata": {},
   "outputs": [],
   "source": [
    "# Creamos una lista que va a formar a nuestro dataframe\n",
    "titles = []\n",
    "created = []\n",
    "prices = []\n",
    "areas = []\n",
    "zone = []\n",
    "condition = []\n",
    "descriptions = []\n",
    "urls = []"
   ]
  },
  {
   "cell_type": "code",
   "execution_count": 51,
   "metadata": {
    "scrolled": true
   },
   "outputs": [
    {
     "name": "stdout",
     "output_type": "stream",
     "text": [
      "You scraped 1 pages containing 9481 properties.\n"
     ]
    }
   ],
   "source": [
    "#%%time\n",
    "\n",
    "n_pages = 0\n",
    "\n",
    "for page in range (0,10):\n",
    "    n_pages +=1\n",
    "    sapo_url = \"https://casa.sapo.pt/comprar-apartamentos/cascais/\"\n",
    "    r = get(sapo_url, headers = headers)\n",
    "    page_html = BeautifulSoup(r.text, 'html.parser')\n",
    "    house_containers = page_html.find_all('div', class_ = \"searchResultProperty\")\n",
    "    \n",
    "    if house_containers != []:\n",
    "        for container in house_containers:\n",
    "            try:\n",
    "                \n",
    "            \n",
    "            \n",
    "            #Precio \n",
    "                price = container.find_all('span')[4].text\n",
    "                print(price)\n",
    "                if price == 'Contacte Anunciante':\n",
    "                    price = container.find_all('span')[3].text\n",
    "\n",
    "                    if price.find('/') != -1:\n",
    "                        price = price[0:price.find('/')-1]\n",
    "\n",
    "                if price.find('/') != -1:\n",
    "                    price = price[0:price.find('/')-1]\n",
    "                print(price)    \n",
    "                price_ = [int(price[s]) for s in range(0, len(price)) if price[s].isdigit()]\n",
    "\n",
    "                price = ''\n",
    "                print(price_)\n",
    "                for x in price_:\n",
    "                    price = price + str(x)\n",
    "                prices.append(int(price))\n",
    "            \n",
    "            except:\n",
    "                continue\n",
    "            \n",
    "            #Zona\n",
    "            location = container.find_all('p', class_=\"searchPropertyLocation\")[0].text\n",
    "            location = location[22:location.find(',')]\n",
    "            zone.append(location)\n",
    "            \n",
    "            #Title\n",
    "            name = container.find_all('span')[0].text\n",
    "            titles.append(name)\n",
    "            \n",
    "            #Description\n",
    "            desc = first.find_all('p', class_=\"searchPropertyDescription\")[0].text[22:-25]\n",
    "            descriptions.append(desc)\n",
    "            \n",
    "            #Url\n",
    "            link = container.find_all('a')[0].get('href')[0:-6]\n",
    "            urls.append(link)\n",
    "            \n",
    "    else:\n",
    "        break\n",
    "        \n",
    "    #sleep(randint(1,2))\n",
    "    \n",
    "print('You scraped {} pages containing {} properties.'.format(n_pages, len(titles)))   "
   ]
  },
  {
   "cell_type": "code",
   "execution_count": 55,
   "metadata": {},
   "outputs": [],
   "source": [
    "cols = ['Title', 'Price', 'Zone',  'Description', 'URL']\n",
    "\n",
    "cascais = pd.DataFrame({'Title': titles,\n",
    "                           'Price': prices,\n",
    "                           'Zone': zone,\n",
    "                           'Description': descriptions,\n",
    "                           'URL': urls})[cols]\n",
    "\n",
    "cascais.to_excel('lisboa_raw.xls')\n",
    "\n",
    "cascais = pd.read_excel('lisboa_raw.xls')"
   ]
  },
  {
   "cell_type": "code",
   "execution_count": 65,
   "metadata": {},
   "outputs": [
    {
     "data": {
      "text/html": [
       "<div>\n",
       "<style scoped>\n",
       "    .dataframe tbody tr th:only-of-type {\n",
       "        vertical-align: middle;\n",
       "    }\n",
       "\n",
       "    .dataframe tbody tr th {\n",
       "        vertical-align: top;\n",
       "    }\n",
       "\n",
       "    .dataframe thead th {\n",
       "        text-align: right;\n",
       "    }\n",
       "</style>\n",
       "<table border=\"1\" class=\"dataframe\">\n",
       "  <thead>\n",
       "    <tr style=\"text-align: right;\">\n",
       "      <th></th>\n",
       "      <th>Unnamed: 0</th>\n",
       "      <th>Title</th>\n",
       "      <th>Price</th>\n",
       "      <th>Zone</th>\n",
       "      <th>Description</th>\n",
       "      <th>URL</th>\n",
       "    </tr>\n",
       "  </thead>\n",
       "  <tbody>\n",
       "    <tr>\n",
       "      <th>0</th>\n",
       "      <td>0</td>\n",
       "      <td>Excelente Apartamento T3 Novo com terraço e vi...</td>\n",
       "      <td>3</td>\n",
       "      <td>Quinta das Marianas (Parede)</td>\n",
       "      <td>Apartamento T3 novo em CAPARIDE em prédio com ...</td>\n",
       "      <td>https://gespub.casa.sapo.pt/v3/webinterface/cl...</td>\n",
       "    </tr>\n",
       "    <tr>\n",
       "      <th>1</th>\n",
       "      <td>1</td>\n",
       "      <td>T2 renovado no Estoril</td>\n",
       "      <td>390000</td>\n",
       "      <td>Cascais e Estoril</td>\n",
       "      <td>Apartamento T3 novo em CAPARIDE em prédio com ...</td>\n",
       "      <td>https://gespub.casa.sapo.pt/v3/webinterface/cl...</td>\n",
       "    </tr>\n",
       "    <tr>\n",
       "      <th>2</th>\n",
       "      <td>2</td>\n",
       "      <td>T2 Jardins da Parede com Terraço</td>\n",
       "      <td>520000</td>\n",
       "      <td>Jardins da Parede (Parede)</td>\n",
       "      <td>Apartamento T3 novo em CAPARIDE em prédio com ...</td>\n",
       "      <td>https://gespub.casa.sapo.pt/v3/webinterface/cl...</td>\n",
       "    </tr>\n",
       "    <tr>\n",
       "      <th>3</th>\n",
       "      <td>3</td>\n",
       "      <td>T3 no Cascais Park</td>\n",
       "      <td>650000</td>\n",
       "      <td>Cascais e Estoril</td>\n",
       "      <td>Apartamento T3 novo em CAPARIDE em prédio com ...</td>\n",
       "      <td>https://gespub.casa.sapo.pt/v3/webinterface/cl...</td>\n",
       "    </tr>\n",
       "    <tr>\n",
       "      <th>4</th>\n",
       "      <td>4</td>\n",
       "      <td>Apartamento T3 em Condomínio na Costa da Guia</td>\n",
       "      <td>730000</td>\n",
       "      <td>Costa da Guia (Cascais)</td>\n",
       "      <td>Apartamento T3 novo em CAPARIDE em prédio com ...</td>\n",
       "      <td>https://gespub.casa.sapo.pt/v3/webinterface/cl...</td>\n",
       "    </tr>\n",
       "  </tbody>\n",
       "</table>\n",
       "</div>"
      ],
      "text/plain": [
       "   Unnamed: 0                                              Title   Price  \\\n",
       "0           0  Excelente Apartamento T3 Novo com terraço e vi...       3   \n",
       "1           1                             T2 renovado no Estoril  390000   \n",
       "2           2                   T2 Jardins da Parede com Terraço  520000   \n",
       "3           3                                 T3 no Cascais Park  650000   \n",
       "4           4      Apartamento T3 em Condomínio na Costa da Guia  730000   \n",
       "\n",
       "                           Zone  \\\n",
       "0  Quinta das Marianas (Parede)   \n",
       "1             Cascais e Estoril   \n",
       "2    Jardins da Parede (Parede)   \n",
       "3             Cascais e Estoril   \n",
       "4       Costa da Guia (Cascais)   \n",
       "\n",
       "                                         Description  \\\n",
       "0  Apartamento T3 novo em CAPARIDE em prédio com ...   \n",
       "1  Apartamento T3 novo em CAPARIDE em prédio com ...   \n",
       "2  Apartamento T3 novo em CAPARIDE em prédio com ...   \n",
       "3  Apartamento T3 novo em CAPARIDE em prédio com ...   \n",
       "4  Apartamento T3 novo em CAPARIDE em prédio com ...   \n",
       "\n",
       "                                                 URL  \n",
       "0  https://gespub.casa.sapo.pt/v3/webinterface/cl...  \n",
       "1  https://gespub.casa.sapo.pt/v3/webinterface/cl...  \n",
       "2  https://gespub.casa.sapo.pt/v3/webinterface/cl...  \n",
       "3  https://gespub.casa.sapo.pt/v3/webinterface/cl...  \n",
       "4  https://gespub.casa.sapo.pt/v3/webinterface/cl...  "
      ]
     },
     "execution_count": 65,
     "metadata": {},
     "output_type": "execute_result"
    }
   ],
   "source": [
    "cascais.head()"
   ]
  },
  {
   "cell_type": "code",
   "execution_count": null,
   "metadata": {},
   "outputs": [],
   "source": []
  }
 ],
 "metadata": {
  "kernelspec": {
   "display_name": "Python 3",
   "language": "python",
   "name": "python3"
  },
  "language_info": {
   "codemirror_mode": {
    "name": "ipython",
    "version": 3
   },
   "file_extension": ".py",
   "mimetype": "text/x-python",
   "name": "python",
   "nbconvert_exporter": "python",
   "pygments_lexer": "ipython3",
   "version": "3.7.7"
  }
 },
 "nbformat": 4,
 "nbformat_minor": 4
}
