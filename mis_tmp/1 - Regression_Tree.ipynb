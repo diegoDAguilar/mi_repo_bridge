{
 "cells": [
  {
   "cell_type": "markdown",
   "metadata": {},
   "source": [
    "https://towardsdatascience.com/random-forest-in-python-24d0893d51c0\n",
    "\n",
    "# Ejercicio Regression Tree\n",
    "Son datos de temperaturas tomados de la ciudad de Seattle. El objetivo es intentar predecir lo mejor posible la máxima temperatura (columna `actual`) que alcanzaremos al día siguiente. Para ello contaremos con temperaturas de los dos días anteriores, históricos de máximas temperaturas y un amigo bastante chapas que te da su predicción del tiempo cada día.\n",
    "\n",
    "**Resumen de datos**:\n",
    "* year: 2016 for all data points\n",
    "* month: number for month of the year\n",
    "* day: number for day of the year\n",
    "* week: day of the week as a character string\n",
    "* temp_2: max temperature 2 days prior\n",
    "* temp_1: max temperature 1 day prior\n",
    "* average: historical average max temperature\n",
    "* actual: max temperature measurement\n",
    "* friend: your friend’s prediction, a random number between 20 below the average and 20 above the average\n",
    "\n",
    "\n",
    "### 1. Importa el csv \"temps.csv\""
   ]
  },
  {
   "cell_type": "code",
   "execution_count": 1,
   "metadata": {},
   "outputs": [
    {
     "data": {
      "text/html": [
       "<div>\n",
       "<style scoped>\n",
       "    .dataframe tbody tr th:only-of-type {\n",
       "        vertical-align: middle;\n",
       "    }\n",
       "\n",
       "    .dataframe tbody tr th {\n",
       "        vertical-align: top;\n",
       "    }\n",
       "\n",
       "    .dataframe thead th {\n",
       "        text-align: right;\n",
       "    }\n",
       "</style>\n",
       "<table border=\"1\" class=\"dataframe\">\n",
       "  <thead>\n",
       "    <tr style=\"text-align: right;\">\n",
       "      <th></th>\n",
       "      <th>year</th>\n",
       "      <th>month</th>\n",
       "      <th>day</th>\n",
       "      <th>week</th>\n",
       "      <th>temp_2</th>\n",
       "      <th>temp_1</th>\n",
       "      <th>average</th>\n",
       "      <th>actual</th>\n",
       "      <th>forecast_noaa</th>\n",
       "      <th>forecast_acc</th>\n",
       "      <th>forecast_under</th>\n",
       "      <th>friend</th>\n",
       "    </tr>\n",
       "  </thead>\n",
       "  <tbody>\n",
       "    <tr>\n",
       "      <th>0</th>\n",
       "      <td>2016</td>\n",
       "      <td>1</td>\n",
       "      <td>1</td>\n",
       "      <td>Fri</td>\n",
       "      <td>45</td>\n",
       "      <td>45</td>\n",
       "      <td>45.6</td>\n",
       "      <td>45</td>\n",
       "      <td>43</td>\n",
       "      <td>50</td>\n",
       "      <td>44</td>\n",
       "      <td>29</td>\n",
       "    </tr>\n",
       "    <tr>\n",
       "      <th>1</th>\n",
       "      <td>2016</td>\n",
       "      <td>1</td>\n",
       "      <td>2</td>\n",
       "      <td>Sat</td>\n",
       "      <td>44</td>\n",
       "      <td>45</td>\n",
       "      <td>45.7</td>\n",
       "      <td>44</td>\n",
       "      <td>41</td>\n",
       "      <td>50</td>\n",
       "      <td>44</td>\n",
       "      <td>61</td>\n",
       "    </tr>\n",
       "    <tr>\n",
       "      <th>2</th>\n",
       "      <td>2016</td>\n",
       "      <td>1</td>\n",
       "      <td>3</td>\n",
       "      <td>Sun</td>\n",
       "      <td>45</td>\n",
       "      <td>44</td>\n",
       "      <td>45.8</td>\n",
       "      <td>41</td>\n",
       "      <td>43</td>\n",
       "      <td>46</td>\n",
       "      <td>47</td>\n",
       "      <td>56</td>\n",
       "    </tr>\n",
       "    <tr>\n",
       "      <th>3</th>\n",
       "      <td>2016</td>\n",
       "      <td>1</td>\n",
       "      <td>4</td>\n",
       "      <td>Mon</td>\n",
       "      <td>44</td>\n",
       "      <td>41</td>\n",
       "      <td>45.9</td>\n",
       "      <td>40</td>\n",
       "      <td>44</td>\n",
       "      <td>48</td>\n",
       "      <td>46</td>\n",
       "      <td>53</td>\n",
       "    </tr>\n",
       "    <tr>\n",
       "      <th>4</th>\n",
       "      <td>2016</td>\n",
       "      <td>1</td>\n",
       "      <td>5</td>\n",
       "      <td>Tues</td>\n",
       "      <td>41</td>\n",
       "      <td>40</td>\n",
       "      <td>46.0</td>\n",
       "      <td>44</td>\n",
       "      <td>46</td>\n",
       "      <td>46</td>\n",
       "      <td>46</td>\n",
       "      <td>41</td>\n",
       "    </tr>\n",
       "  </tbody>\n",
       "</table>\n",
       "</div>"
      ],
      "text/plain": [
       "   year  month  day  week  temp_2  temp_1  average  actual  forecast_noaa  \\\n",
       "0  2016      1    1   Fri      45      45     45.6      45             43   \n",
       "1  2016      1    2   Sat      44      45     45.7      44             41   \n",
       "2  2016      1    3   Sun      45      44     45.8      41             43   \n",
       "3  2016      1    4   Mon      44      41     45.9      40             44   \n",
       "4  2016      1    5  Tues      41      40     46.0      44             46   \n",
       "\n",
       "   forecast_acc  forecast_under  friend  \n",
       "0            50              44      29  \n",
       "1            50              44      61  \n",
       "2            46              47      56  \n",
       "3            48              46      53  \n",
       "4            46              46      41  "
      ]
     },
     "execution_count": 1,
     "metadata": {},
     "output_type": "execute_result"
    }
   ],
   "source": [
    "import pandas as pd\n",
    "import numpy as np\n",
    "\n",
    "df = pd.read_csv('./data/temps.csv')\n",
    "df.head()"
   ]
  },
  {
   "cell_type": "code",
   "execution_count": 2,
   "metadata": {},
   "outputs": [
    {
     "name": "stdout",
     "output_type": "stream",
     "text": [
      "<class 'pandas.core.frame.DataFrame'>\n",
      "RangeIndex: 348 entries, 0 to 347\n",
      "Data columns (total 12 columns):\n",
      " #   Column          Non-Null Count  Dtype  \n",
      "---  ------          --------------  -----  \n",
      " 0   year            348 non-null    int64  \n",
      " 1   month           348 non-null    int64  \n",
      " 2   day             348 non-null    int64  \n",
      " 3   week            348 non-null    object \n",
      " 4   temp_2          348 non-null    int64  \n",
      " 5   temp_1          348 non-null    int64  \n",
      " 6   average         348 non-null    float64\n",
      " 7   actual          348 non-null    int64  \n",
      " 8   forecast_noaa   348 non-null    int64  \n",
      " 9   forecast_acc    348 non-null    int64  \n",
      " 10  forecast_under  348 non-null    int64  \n",
      " 11  friend          348 non-null    int64  \n",
      "dtypes: float64(1), int64(10), object(1)\n",
      "memory usage: 32.8+ KB\n"
     ]
    }
   ],
   "source": [
    "df.info()"
   ]
  },
  {
   "cell_type": "code",
   "execution_count": 3,
   "metadata": {},
   "outputs": [
    {
     "data": {
      "text/plain": [
       "12    31\n",
       "7     31\n",
       "5     31\n",
       "3     31\n",
       "1     31\n",
       "11    30\n",
       "10    30\n",
       "6     30\n",
       "4     30\n",
       "9     28\n",
       "2     26\n",
       "8     19\n",
       "Name: month, dtype: int64"
      ]
     },
     "execution_count": 3,
     "metadata": {},
     "output_type": "execute_result"
    }
   ],
   "source": [
    "df['month'].value_counts()"
   ]
  },
  {
   "cell_type": "markdown",
   "metadata": {},
   "source": [
    "### 2. Lidia con las variables categóricas del dataset"
   ]
  },
  {
   "cell_type": "code",
   "execution_count": 4,
   "metadata": {},
   "outputs": [
    {
     "data": {
      "text/plain": [
       "Tues     52\n",
       "Fri      50\n",
       "Sat      50\n",
       "Wed      49\n",
       "Thurs    49\n",
       "Sun      49\n",
       "Mon      49\n",
       "Name: week, dtype: int64"
      ]
     },
     "execution_count": 4,
     "metadata": {},
     "output_type": "execute_result"
    }
   ],
   "source": [
    "df['week'].value_counts()"
   ]
  },
  {
   "cell_type": "code",
   "execution_count": 5,
   "metadata": {},
   "outputs": [],
   "source": [
    "day_week_dummy = pd.get_dummies(df['week'])"
   ]
  },
  {
   "cell_type": "code",
   "execution_count": 6,
   "metadata": {},
   "outputs": [
    {
     "data": {
      "text/html": [
       "<div>\n",
       "<style scoped>\n",
       "    .dataframe tbody tr th:only-of-type {\n",
       "        vertical-align: middle;\n",
       "    }\n",
       "\n",
       "    .dataframe tbody tr th {\n",
       "        vertical-align: top;\n",
       "    }\n",
       "\n",
       "    .dataframe thead th {\n",
       "        text-align: right;\n",
       "    }\n",
       "</style>\n",
       "<table border=\"1\" class=\"dataframe\">\n",
       "  <thead>\n",
       "    <tr style=\"text-align: right;\">\n",
       "      <th></th>\n",
       "      <th>year</th>\n",
       "      <th>month</th>\n",
       "      <th>day</th>\n",
       "      <th>temp_2</th>\n",
       "      <th>temp_1</th>\n",
       "      <th>average</th>\n",
       "      <th>actual</th>\n",
       "      <th>forecast_noaa</th>\n",
       "      <th>forecast_acc</th>\n",
       "      <th>forecast_under</th>\n",
       "      <th>friend</th>\n",
       "      <th>Fri</th>\n",
       "      <th>Mon</th>\n",
       "      <th>Sat</th>\n",
       "      <th>Sun</th>\n",
       "      <th>Thurs</th>\n",
       "      <th>Tues</th>\n",
       "      <th>Wed</th>\n",
       "    </tr>\n",
       "  </thead>\n",
       "  <tbody>\n",
       "    <tr>\n",
       "      <th>0</th>\n",
       "      <td>2016</td>\n",
       "      <td>1</td>\n",
       "      <td>1</td>\n",
       "      <td>45</td>\n",
       "      <td>45</td>\n",
       "      <td>45.6</td>\n",
       "      <td>45</td>\n",
       "      <td>43</td>\n",
       "      <td>50</td>\n",
       "      <td>44</td>\n",
       "      <td>29</td>\n",
       "      <td>1</td>\n",
       "      <td>0</td>\n",
       "      <td>0</td>\n",
       "      <td>0</td>\n",
       "      <td>0</td>\n",
       "      <td>0</td>\n",
       "      <td>0</td>\n",
       "    </tr>\n",
       "    <tr>\n",
       "      <th>1</th>\n",
       "      <td>2016</td>\n",
       "      <td>1</td>\n",
       "      <td>2</td>\n",
       "      <td>44</td>\n",
       "      <td>45</td>\n",
       "      <td>45.7</td>\n",
       "      <td>44</td>\n",
       "      <td>41</td>\n",
       "      <td>50</td>\n",
       "      <td>44</td>\n",
       "      <td>61</td>\n",
       "      <td>0</td>\n",
       "      <td>0</td>\n",
       "      <td>1</td>\n",
       "      <td>0</td>\n",
       "      <td>0</td>\n",
       "      <td>0</td>\n",
       "      <td>0</td>\n",
       "    </tr>\n",
       "    <tr>\n",
       "      <th>2</th>\n",
       "      <td>2016</td>\n",
       "      <td>1</td>\n",
       "      <td>3</td>\n",
       "      <td>45</td>\n",
       "      <td>44</td>\n",
       "      <td>45.8</td>\n",
       "      <td>41</td>\n",
       "      <td>43</td>\n",
       "      <td>46</td>\n",
       "      <td>47</td>\n",
       "      <td>56</td>\n",
       "      <td>0</td>\n",
       "      <td>0</td>\n",
       "      <td>0</td>\n",
       "      <td>1</td>\n",
       "      <td>0</td>\n",
       "      <td>0</td>\n",
       "      <td>0</td>\n",
       "    </tr>\n",
       "    <tr>\n",
       "      <th>3</th>\n",
       "      <td>2016</td>\n",
       "      <td>1</td>\n",
       "      <td>4</td>\n",
       "      <td>44</td>\n",
       "      <td>41</td>\n",
       "      <td>45.9</td>\n",
       "      <td>40</td>\n",
       "      <td>44</td>\n",
       "      <td>48</td>\n",
       "      <td>46</td>\n",
       "      <td>53</td>\n",
       "      <td>0</td>\n",
       "      <td>1</td>\n",
       "      <td>0</td>\n",
       "      <td>0</td>\n",
       "      <td>0</td>\n",
       "      <td>0</td>\n",
       "      <td>0</td>\n",
       "    </tr>\n",
       "    <tr>\n",
       "      <th>4</th>\n",
       "      <td>2016</td>\n",
       "      <td>1</td>\n",
       "      <td>5</td>\n",
       "      <td>41</td>\n",
       "      <td>40</td>\n",
       "      <td>46.0</td>\n",
       "      <td>44</td>\n",
       "      <td>46</td>\n",
       "      <td>46</td>\n",
       "      <td>46</td>\n",
       "      <td>41</td>\n",
       "      <td>0</td>\n",
       "      <td>0</td>\n",
       "      <td>0</td>\n",
       "      <td>0</td>\n",
       "      <td>0</td>\n",
       "      <td>1</td>\n",
       "      <td>0</td>\n",
       "    </tr>\n",
       "  </tbody>\n",
       "</table>\n",
       "</div>"
      ],
      "text/plain": [
       "   year  month  day  temp_2  temp_1  average  actual  forecast_noaa  \\\n",
       "0  2016      1    1      45      45     45.6      45             43   \n",
       "1  2016      1    2      44      45     45.7      44             41   \n",
       "2  2016      1    3      45      44     45.8      41             43   \n",
       "3  2016      1    4      44      41     45.9      40             44   \n",
       "4  2016      1    5      41      40     46.0      44             46   \n",
       "\n",
       "   forecast_acc  forecast_under  friend  Fri  Mon  Sat  Sun  Thurs  Tues  Wed  \n",
       "0            50              44      29    1    0    0    0      0     0    0  \n",
       "1            50              44      61    0    0    1    0      0     0    0  \n",
       "2            46              47      56    0    0    0    1      0     0    0  \n",
       "3            48              46      53    0    1    0    0      0     0    0  \n",
       "4            46              46      41    0    0    0    0      0     1    0  "
      ]
     },
     "execution_count": 6,
     "metadata": {},
     "output_type": "execute_result"
    }
   ],
   "source": [
    "df2 = pd.concat([df, day_week_dummy], axis=1)\n",
    "df2.drop(['week'], axis=1, inplace=True)\n",
    "df2.head()"
   ]
  },
  {
   "cell_type": "markdown",
   "metadata": {},
   "source": [
    "### 3. Divide en train y test"
   ]
  },
  {
   "cell_type": "code",
   "execution_count": 7,
   "metadata": {},
   "outputs": [],
   "source": [
    "features = list(df2.columns)\n",
    "features.remove('actual')\n",
    "target = 'actual'"
   ]
  },
  {
   "cell_type": "code",
   "execution_count": 8,
   "metadata": {},
   "outputs": [
    {
     "name": "stdout",
     "output_type": "stream",
     "text": [
      "(278, 17)\n",
      "(70, 17)\n",
      "(278,)\n",
      "(70,)\n"
     ]
    }
   ],
   "source": [
    "from sklearn.model_selection import train_test_split\n",
    "X_train, X_test, y_train, y_test = train_test_split(df2[features], df2[target], test_size=.2, random_state=42)\n",
    "\n",
    "\n",
    "print(X_train.shape)\n",
    "print(X_test.shape)\n",
    "print(y_train.shape)\n",
    "print(y_test.shape)"
   ]
  },
  {
   "cell_type": "markdown",
   "metadata": {},
   "source": [
    "### 4. Entrena el modelo\n",
    "Utiliza un DecisionTreeRegressor"
   ]
  },
  {
   "cell_type": "code",
   "execution_count": 18,
   "metadata": {},
   "outputs": [
    {
     "data": {
      "text/plain": [
       "DecisionTreeRegressor(random_state=42)"
      ]
     },
     "execution_count": 18,
     "metadata": {},
     "output_type": "execute_result"
    }
   ],
   "source": [
    "from sklearn.tree import DecisionTreeRegressor\n",
    "\n",
    "tree_reg = DecisionTreeRegressor(random_state=42)\n",
    "tree_reg.fit(X_train, y_train)"
   ]
  },
  {
   "cell_type": "code",
   "execution_count": 19,
   "metadata": {},
   "outputs": [],
   "source": [
    "predictions = tree_reg.predict(X_test)"
   ]
  },
  {
   "cell_type": "code",
   "execution_count": 20,
   "metadata": {},
   "outputs": [
    {
     "name": "stdout",
     "output_type": "stream",
     "text": [
      "MSE:  44.82857142857143\n",
      "RMSE:  6.695414208887411\n"
     ]
    }
   ],
   "source": [
    "from sklearn.metrics import mean_squared_error\n",
    "\n",
    "print('MSE: ', mean_squared_error(y_test, predictions))\n",
    "print('RMSE: ', np.sqrt(mean_squared_error(y_test, predictions)))"
   ]
  },
  {
   "cell_type": "markdown",
   "metadata": {},
   "source": [
    "### 5. Calcula su MAE\n",
    "Sin usar sklearn"
   ]
  },
  {
   "cell_type": "code",
   "execution_count": 26,
   "metadata": {},
   "outputs": [
    {
     "data": {
      "text/plain": [
       "4.885714285714286"
      ]
     },
     "execution_count": 26,
     "metadata": {},
     "output_type": "execute_result"
    }
   ],
   "source": [
    "diferencias = np.abs(predictions-y_test)\n",
    "mae = diferencias.sum()/len(diferencias)\n",
    "mae"
   ]
  },
  {
   "cell_type": "code",
   "execution_count": 22,
   "metadata": {},
   "outputs": [
    {
     "data": {
      "text/plain": [
       "255    66\n",
       "114    61\n",
       "314    52\n",
       "268    66\n",
       "167    70\n",
       "       ..\n",
       "93     68\n",
       "180    76\n",
       "183    69\n",
       "197    78\n",
       "325    36\n",
       "Name: actual, Length: 70, dtype: int64"
      ]
     },
     "execution_count": 22,
     "metadata": {},
     "output_type": "execute_result"
    }
   ],
   "source": [
    "y_test"
   ]
  },
  {
   "cell_type": "markdown",
   "metadata": {},
   "source": [
    "### 6. Calcula su MAPE\n",
    "Sin usar sklearn"
   ]
  },
  {
   "cell_type": "code",
   "execution_count": 23,
   "metadata": {},
   "outputs": [
    {
     "data": {
      "text/plain": [
       "0.07703220475099386"
      ]
     },
     "execution_count": 23,
     "metadata": {},
     "output_type": "execute_result"
    }
   ],
   "source": [
    "diferencias_pct = np.abs((predictions-y_test)/y_test)\n",
    "mape = diferencias_pct.sum()/len(diferencias_pct)\n",
    "mape"
   ]
  },
  {
   "cell_type": "markdown",
   "metadata": {},
   "source": [
    "### 7. Representa el árbol de decision"
   ]
  },
  {
   "cell_type": "code",
   "execution_count": 24,
   "metadata": {},
   "outputs": [],
   "source": [
    "import sklearn"
   ]
  },
  {
   "cell_type": "code",
   "execution_count": 25,
   "metadata": {},
   "outputs": [
    {
     "data": {
      "image/png": "[encoded data removed]",
      "text/plain": [
       "<Figure size 432x288 with 1 Axes>"
      ]
     },
     "metadata": {
      "needs_background": "light"
     },
     "output_type": "display_data"
    }
   ],
   "source": [
    "sklearn.tree.plot_tree(tree_reg,\n",
    "               feature_names=X_train.columns,\n",
    "               filled = True);"
   ]
  },
  {
   "cell_type": "markdown",
   "metadata": {},
   "source": [
    "### 8. Modifica el max_depth a 3 y vuelve a entrenarlo"
   ]
  },
  {
   "cell_type": "code",
   "execution_count": 27,
   "metadata": {},
   "outputs": [
    {
     "data": {
      "text/plain": [
       "DecisionTreeRegressor(max_depth=3, random_state=42)"
      ]
     },
     "execution_count": 27,
     "metadata": {},
     "output_type": "execute_result"
    }
   ],
   "source": [
    "tree_reg2 = DecisionTreeRegressor(random_state=42, max_depth=3)\n",
    "tree_reg2.fit(X_train, y_train)"
   ]
  },
  {
   "cell_type": "code",
   "execution_count": 28,
   "metadata": {},
   "outputs": [
    {
     "name": "stdout",
     "output_type": "stream",
     "text": [
      "MSE:  34.11001819765438\n",
      "RMSE:  5.840378258097191\n"
     ]
    }
   ],
   "source": [
    "predictions_depth3 = tree_reg2.predict(X_test)\n",
    "\n",
    "print('MSE: ', mean_squared_error(y_test, predictions_depth3))\n",
    "print('RMSE: ', np.sqrt(mean_squared_error(y_test, predictions_depth3)))"
   ]
  },
  {
   "cell_type": "code",
   "execution_count": 36,
   "metadata": {},
   "outputs": [
    {
     "data": {
      "image/png": "[encoded data removed]",
      "text/plain": [
       "<Figure size 1080x720 with 1 Axes>"
      ]
     },
     "metadata": {
      "needs_background": "light"
     },
     "output_type": "display_data"
    }
   ],
   "source": [
    "import matplotlib.pyplot as plt\n",
    "plt.figure(figsize=(15,10))\n",
    "sklearn.tree.plot_tree(tree_reg2,\n",
    "               feature_names=X_train.columns,\n",
    "               filled = True);"
   ]
  },
  {
   "cell_type": "markdown",
   "metadata": {},
   "source": [
    "### 9. Vuelve a calcular si MAE"
   ]
  },
  {
   "cell_type": "code",
   "execution_count": 37,
   "metadata": {},
   "outputs": [
    {
     "data": {
      "text/plain": [
       "4.5567196265742504"
      ]
     },
     "execution_count": 37,
     "metadata": {},
     "output_type": "execute_result"
    }
   ],
   "source": [
    "diferencias = np.abs(predictions_depth3-y_test)\n",
    "mae = diferencias.sum()/len(diferencias)\n",
    "mae"
   ]
  },
  {
   "cell_type": "markdown",
   "metadata": {},
   "source": [
    "### 10. Vuelve a representar su árbol"
   ]
  },
  {
   "cell_type": "code",
   "execution_count": 38,
   "metadata": {},
   "outputs": [],
   "source": [
    "# DONE"
   ]
  },
  {
   "cell_type": "markdown",
   "metadata": {},
   "source": [
    "### 10. Obten el `feature_importances` de cada variable en el último modelo"
   ]
  },
  {
   "cell_type": "code",
   "execution_count": 41,
   "metadata": {},
   "outputs": [
    {
     "data": {
      "text/plain": [
       "Index(['year', 'month', 'day', 'temp_2', 'temp_1', 'average', 'forecast_noaa',\n",
       "       'forecast_acc', 'forecast_under', 'friend', 'Fri', 'Mon', 'Sat', 'Sun',\n",
       "       'Thurs', 'Tues', 'Wed'],\n",
       "      dtype='object')"
      ]
     },
     "execution_count": 41,
     "metadata": {},
     "output_type": "execute_result"
    }
   ],
   "source": [
    "X_train.columns"
   ]
  },
  {
   "cell_type": "code",
   "execution_count": 42,
   "metadata": {},
   "outputs": [
    {
     "data": {
      "text/plain": [
       "array([0.00000000e+00, 1.56991638e-02, 2.33989980e-02, 1.59043776e-02,\n",
       "       7.57173025e-01, 9.98110055e-02, 1.65903153e-02, 1.21094137e-02,\n",
       "       2.28475103e-02, 1.56035192e-02, 3.81700554e-04, 9.05202386e-03,\n",
       "       2.22427323e-03, 6.41346779e-03, 7.69907367e-04, 4.40256889e-04,\n",
       "       1.58104170e-03])"
      ]
     },
     "execution_count": 42,
     "metadata": {},
     "output_type": "execute_result"
    }
   ],
   "source": [
    "tree_reg.feature_importances_"
   ]
  },
  {
   "cell_type": "code",
   "execution_count": 40,
   "metadata": {},
   "outputs": [
    {
     "data": {
      "text/plain": [
       "array([0.        , 0.        , 0.        , 0.        , 0.88020751,\n",
       "       0.08841159, 0.        , 0.01060993, 0.02077097, 0.        ,\n",
       "       0.        , 0.        , 0.        , 0.        , 0.        ,\n",
       "       0.        , 0.        ])"
      ]
     },
     "execution_count": 40,
     "metadata": {},
     "output_type": "execute_result"
    }
   ],
   "source": [
    "tree_reg2.feature_importances_"
   ]
  }
 ],
 "metadata": {
  "kernelspec": {
   "display_name": "Python 3",
   "language": "python",
   "name": "python3"
  },
  "language_info": {
   "codemirror_mode": {
    "name": "ipython",
    "version": 3
   },
   "file_extension": ".py",
   "mimetype": "text/x-python",
   "name": "python",
   "nbconvert_exporter": "python",
   "pygments_lexer": "ipython3",
   "version": "3.8.3"
  }
 },
 "nbformat": 4,
 "nbformat_minor": 4
}
