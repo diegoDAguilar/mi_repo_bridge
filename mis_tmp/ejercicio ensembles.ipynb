{
 "cells": [
  {
   "cell_type": "markdown",
   "metadata": {},
   "source": [
    "# Ejercicios ensembling\n",
    "En este ejercicio vas a realizar prediciones sobre un dataset de ciudadanos indios diabéticos. Se trata de un problema de clasificación en el que intentaremos predecir 1 (diabético) 0 (no diabético). Todas las variables son numércias."
   ]
  },
  {
   "cell_type": "markdown",
   "metadata": {},
   "source": [
    "## 1. Carga las librerias que consideres comunes al notebook"
   ]
  },
  {
   "cell_type": "code",
   "execution_count": 1,
   "metadata": {},
   "outputs": [],
   "source": [
    "import pandas as pd\n",
    "import numpy as np"
   ]
  },
  {
   "cell_type": "markdown",
   "metadata": {},
   "source": [
    "## 2. Lee los datos de [esta direccion](https://raw.githubusercontent.com/jbrownlee/Datasets/master/pima-indians-diabetes.data.csv)\n",
    "Los nombres de columnas son:\n",
    "```Python\n",
    "names = ['preg', 'plas', 'pres', 'skin', 'test', 'mass', 'pedi', 'age', 'class']\n",
    "```"
   ]
  },
  {
   "cell_type": "code",
   "execution_count": 4,
   "metadata": {},
   "outputs": [
    {
     "name": "stdout",
     "output_type": "stream",
     "text": [
      "(767, 9)\n"
     ]
    }
   ],
   "source": [
    "url = 'https://raw.githubusercontent.com/jbrownlee/Datasets/master/pima-indians-diabetes.data.csv'\n",
    "\n",
    "\n",
    "names = ['preg', 'plas', 'pres', 'skin', 'test', 'mass', 'pedi', 'age', 'class']\n",
    "\n",
    "df = pd.read_csv(url)\n",
    "df.columns = names\n",
    "print(df.shape)"
   ]
  },
  {
   "cell_type": "code",
   "execution_count": 5,
   "metadata": {},
   "outputs": [],
   "source": [
    "features = names\n",
    "features.remove('class')\n",
    "target = 'class'"
   ]
  },
  {
   "cell_type": "markdown",
   "metadata": {},
   "source": [
    "## 3. Bagging\n",
    "Para este apartado tendrás que crear un ensemble utilizando la técnica de bagging ([BaggingClassifier](https://scikit-learn.org/stable/modules/generated/sklearn.ensemble.BaggingClassifier.html)), mediante la cual combinarás 100 [DecisionTreeClassifier](https://scikit-learn.org/stable/modules/generated/sklearn.tree.DecisionTreeClassifier.html). Recuerda utilizar también [cross validation](https://scikit-learn.org/stable/modules/generated/sklearn.model_selection.KFold.html) con 10 kfolds.\n",
    "\n",
    "**Para este apartado y siguientes, no hace falta que dividas en train/test**, por hacerlo más sencillo. Simplemente divide tus datos en features y target.\n",
    "\n",
    "Establece una semilla"
   ]
  },
  {
   "cell_type": "code",
   "execution_count": 8,
   "metadata": {},
   "outputs": [
    {
     "name": "stdout",
     "output_type": "stream",
     "text": [
      "(613, 8)\n",
      "(154, 8)\n",
      "(613,)\n",
      "(154,)\n"
     ]
    }
   ],
   "source": [
    "from sklearn.model_selection import train_test_split\n",
    "\n",
    "X_train, X_test, y_train, y_test = train_test_split(df[features], df[target], test_size=.2,\n",
    "                                                    random_state=42)\n",
    "\n",
    "print(X_train.shape)\n",
    "print(X_test.shape)\n",
    "print(y_train.shape)\n",
    "print(y_test.shape)"
   ]
  },
  {
   "cell_type": "markdown",
   "metadata": {
    "jupyter": {
     "source_hidden": true
    }
   },
   "source": [
    "from sklearn.model_selection import GridSearchCV\n",
    "from sklearn.ensemble import BaggingClassifier\n",
    "from sklearn.tree import DecisionTreeClassifier\n",
    "# define model\n",
    "model = BaggingClassifier(\n",
    "    DecisionTreeClassifier(random_state=42), bootstrap=True, random_state=42)\n",
    "# define model evaluation method\n",
    "\n",
    "# define grid\n",
    "grid = dict()\n",
    "grid['n_estimators'] = list(range(1,501, 50))\n",
    "grid['max_samples'] = list(range(50, 200, 50))\n",
    "# define search\n",
    "search = GridSearchCV(model, grid, scoring='accuracy', cv=10, n_jobs=-1)\n",
    "# perform the search\n",
    "results = search.fit(X_train, y_train)\n",
    "\n",
    "# summarize\n",
    "print('Accuracy: %.3f' % results.best_score_)\n",
    "print('Config: %s' % results.best_params_)"
   ]
  },
  {
   "cell_type": "code",
   "execution_count": 43,
   "metadata": {},
   "outputs": [
    {
     "name": "stdout",
     "output_type": "stream",
     "text": [
      "Accuracy: 0.763\n",
      "Config: {'max_samples': 50}\n"
     ]
    }
   ],
   "source": [
    "from sklearn.model_selection import GridSearchCV\n",
    "from sklearn.ensemble import BaggingClassifier\n",
    "from sklearn.tree import DecisionTreeClassifier\n",
    "# define model\n",
    "grid_bag = BaggingClassifier(\n",
    "    DecisionTreeClassifier(random_state=42),n_estimators=100, bootstrap=True, random_state=42)\n",
    "# define model evaluation method\n",
    "\n",
    "# define grid\n",
    "grid = dict()\n",
    "grid['max_samples'] = list(range(50, 200, 50))\n",
    "# define search\n",
    "search = GridSearchCV(grid_bag, grid, scoring='accuracy', cv=10, n_jobs=-1)\n",
    "# perform the search\n",
    "results_bag = search.fit(X_train, y_train)\n",
    "\n",
    "# summarize\n",
    "print('Accuracy: %.3f' % results_bag.best_score_)\n",
    "print('Config: %s' % results_bag.best_params_)"
   ]
  },
  {
   "cell_type": "code",
   "execution_count": 45,
   "metadata": {},
   "outputs": [
    {
     "data": {
      "text/plain": [
       "0.8051948051948052"
      ]
     },
     "execution_count": 45,
     "metadata": {},
     "output_type": "execute_result"
    }
   ],
   "source": [
    "bag_model =  BaggingClassifier(\n",
    "    DecisionTreeClassifier(random_state=42),**results_bag.best_params_,\n",
    "    n_estimators=100,\n",
    "    bootstrap=True, random_state=42)\n",
    "bag_model.fit(X_train, y_train)\n",
    "bag_predictions = bag_model.predict(X_test)\n",
    "\n",
    "from sklearn.metrics import accuracy_score\n",
    "accuracy_score(y_test, bag_predictions)"
   ]
  },
  {
   "cell_type": "markdown",
   "metadata": {},
   "source": [
    "## 4. Random Forest\n",
    "En este caso entrena un [RandomForestClassifier](https://scikit-learn.org/stable/modules/generated/sklearn.ensemble.RandomForestClassifier.html) con 100 árboles y un `max_features` de 3. También con validación cruzada"
   ]
  },
  {
   "cell_type": "code",
   "execution_count": 47,
   "metadata": {},
   "outputs": [
    {
     "name": "stdout",
     "output_type": "stream",
     "text": [
      "Accuracy: 0.736\n",
      "Config: {'criterion': 'gini'}\n"
     ]
    }
   ],
   "source": [
    "from sklearn.ensemble import RandomForestClassifier\n",
    "# define model\n",
    "grid_rf = RandomForestClassifier(n_estimators=100, max_features=3, random_state=42)\n",
    "# define model evaluation method\n",
    "\n",
    "# define grid\n",
    "grid = dict()\n",
    "# define search\n",
    "grid['criterion'] = ['gini', 'entropy']\n",
    "search = GridSearchCV(grid_rf, grid, scoring='accuracy', cv=10, n_jobs=-1)\n",
    "# perform the search\n",
    "rf_results = search.fit(X_train, y_train)\n",
    "\n",
    "# summarize\n",
    "print('Accuracy: %.3f' % rf_results.best_score_)\n",
    "print('Config: %s' % rf_results.best_params_)"
   ]
  },
  {
   "cell_type": "code",
   "execution_count": 49,
   "metadata": {},
   "outputs": [
    {
     "data": {
      "text/plain": [
       "0.7922077922077922"
      ]
     },
     "execution_count": 49,
     "metadata": {},
     "output_type": "execute_result"
    }
   ],
   "source": [
    "grid_rf = RandomForestClassifier(**rf_results.best_params_,n_estimators=100, max_features=3, random_state=42)\n",
    "\n",
    "grid_rf.fit(X_train, y_train)\n",
    "rf_predictions = grid_rf.predict(X_test)\n",
    "\n",
    "from sklearn.metrics import accuracy_score\n",
    "accuracy_score(y_test, rf_predictions)"
   ]
  },
  {
   "cell_type": "markdown",
   "metadata": {},
   "source": [
    "## 5. AdaBoost\n",
    "Implementa un [AdaBoostClassifier](https://scikit-learn.org/stable/modules/generated/sklearn.ensemble.AdaBoostClassifier.html) con 30 árboles."
   ]
  },
  {
   "cell_type": "code",
   "execution_count": 50,
   "metadata": {},
   "outputs": [
    {
     "name": "stdout",
     "output_type": "stream",
     "text": [
      "Accuracy: 0.755\n",
      "Config: {'algorithm': 'SAMME.R', 'learning_rate': 0.30000000000000004}\n"
     ]
    }
   ],
   "source": [
    "from sklearn.ensemble import AdaBoostClassifier\n",
    "\n",
    "grid_ada =  AdaBoostClassifier(\n",
    "    DecisionTreeClassifier(max_depth=1), n_estimators=30, random_state=42)\n",
    "# define model evaluation method\n",
    "\n",
    "# define grid\n",
    "grid = dict()\n",
    "# define search\n",
    "grid['learning_rate'] = list(np.arange(0.1, 1.0, 0.1))\n",
    "grid['algorithm'] = ['SAMME', 'SAMME.R']\n",
    "search = GridSearchCV(grid_ada, grid, scoring='accuracy', cv=10, n_jobs=-1)\n",
    "# perform the search\n",
    "ada_results = search.fit(X_train, y_train)\n",
    "\n",
    "# summarize\n",
    "print('Accuracy: %.3f' % ada_results.best_score_)\n",
    "print('Config: %s' % ada_results.best_params_)"
   ]
  },
  {
   "cell_type": "code",
   "execution_count": 51,
   "metadata": {},
   "outputs": [
    {
     "data": {
      "text/plain": [
       "0.7922077922077922"
      ]
     },
     "execution_count": 51,
     "metadata": {},
     "output_type": "execute_result"
    }
   ],
   "source": [
    "grid_ada =  AdaBoostClassifier(\n",
    "    DecisionTreeClassifier(max_depth=1), **ada_results.best_params_,\n",
    "    n_estimators=30,\n",
    "    random_state=42)\n",
    "\n",
    "grid_ada.fit(X_train, y_train)\n",
    "ada_predictions = grid_ada.predict(X_test)\n",
    "\n",
    "from sklearn.metrics import accuracy_score\n",
    "accuracy_score(y_test, ada_predictions)"
   ]
  },
  {
   "cell_type": "markdown",
   "metadata": {},
   "source": [
    "## 6. GradientBoosting\n",
    "Implementa un [GradientBoostingClassifier](https://scikit-learn.org/stable/modules/generated/sklearn.ensemble.GradientBoostingClassifier.html) con 100 estimadores"
   ]
  },
  {
   "cell_type": "code",
   "execution_count": 52,
   "metadata": {},
   "outputs": [
    {
     "name": "stdout",
     "output_type": "stream",
     "text": [
      "Accuracy: 0.757\n",
      "Config: {'criterion': 'friedman_mse', 'learning_rate': 0.1, 'max_depth': 3}\n"
     ]
    }
   ],
   "source": [
    "from sklearn.ensemble import GradientBoostingClassifier\n",
    "\n",
    "# define model evaluation method\n",
    "\n",
    "grid_gradBoost = GradientBoostingClassifier(n_estimators=100,\n",
    "                                  random_state=42)\n",
    "# define grid\n",
    "grid = dict()\n",
    "# define search\n",
    "grid['learning_rate'] = list(np.arange(0.1, 1.0, 0.1))\n",
    "grid['max_depth'] = [1,2,3]\n",
    "grid['criterion'] = ['friedman_mse', 'mse', 'mae']\n",
    "search = GridSearchCV(grid_gradBoost, grid, scoring='accuracy', cv=10, n_jobs=-1)\n",
    "# perform the search\n",
    "gradBoost_results = search.fit(X_train, y_train)\n",
    "\n",
    "# summarize\n",
    "print('Accuracy: %.3f' % gradBoost_results.best_score_)\n",
    "print('Config: %s' % gradBoost_results.best_params_)"
   ]
  },
  {
   "cell_type": "code",
   "execution_count": 53,
   "metadata": {},
   "outputs": [
    {
     "data": {
      "text/plain": [
       "0.7792207792207793"
      ]
     },
     "execution_count": 53,
     "metadata": {},
     "output_type": "execute_result"
    }
   ],
   "source": [
    "grid_gradBoost = GradientBoostingClassifier(**gradBoost_results.best_params_,\n",
    "                                            n_estimators=100,\n",
    "                                            random_state=42)\n",
    "\n",
    "grid_gradBoost.fit(X_train, y_train)\n",
    "gradBoost_predictions = grid_gradBoost.predict(X_test)\n",
    "\n",
    "from sklearn.metrics import accuracy_score\n",
    "accuracy_score(y_test, gradBoost_predictions)"
   ]
  },
  {
   "cell_type": "markdown",
   "metadata": {},
   "source": [
    "## 7. XGBoost\n",
    "Para este apartado utiliza un [XGBoostClassifier](https://docs.getml.com/latest/api/getml.predictors.XGBoostClassifier.html) con 100 estimadores. XGBoost no forma parte de la suite de modelos de sklearn, por lo que tendrás que instalarlo con pip install"
   ]
  },
  {
   "cell_type": "code",
   "execution_count": 29,
   "metadata": {},
   "outputs": [
    {
     "name": "stdout",
     "output_type": "stream",
     "text": [
      "Collecting xgboost\n",
      "  Downloading xgboost-1.2.1-py3-none-win_amd64.whl (86.5 MB)\n",
      "Requirement already satisfied: scipy in c:\\users\\diego\\anaconda3\\lib\\site-packages (from xgboost) (1.5.0)\n",
      "Requirement already satisfied: numpy in c:\\users\\diego\\anaconda3\\lib\\site-packages (from xgboost) (1.18.5)\n",
      "Installing collected packages: xgboost\n",
      "Successfully installed xgboost-1.2.1\n"
     ]
    }
   ],
   "source": [
    "#!pip install xgboost"
   ]
  },
  {
   "cell_type": "code",
   "execution_count": 30,
   "metadata": {},
   "outputs": [],
   "source": [
    "import xgboost"
   ]
  },
  {
   "cell_type": "code",
   "execution_count": 54,
   "metadata": {},
   "outputs": [
    {
     "name": "stdout",
     "output_type": "stream",
     "text": [
      "Accuracy: 0.765\n",
      "Config: {'learning_rate': 0.2, 'max_depth': 2}\n"
     ]
    }
   ],
   "source": [
    "# define model evaluation method\n",
    "\n",
    "grid_XGB = xgboost.XGBClassifier(n_estimators = 100, random_state=42)\n",
    "\n",
    "# define grid\n",
    "grid = dict()\n",
    "# define search\n",
    "grid['learning_rate'] = list(np.arange(0.1, 1.0, 0.1))\n",
    "grid['max_depth'] = [1,2,3]\n",
    "search = GridSearchCV(grid_XGB, grid, scoring='accuracy', cv=10, n_jobs=-1)\n",
    "# perform the search\n",
    "results_XGB = search.fit(X_train, y_train)\n",
    "\n",
    "# summarize\n",
    "print('Accuracy: %.3f' % results_XGB.best_score_)\n",
    "print('Config: %s' % results_XGB.best_params_)"
   ]
  },
  {
   "cell_type": "code",
   "execution_count": 56,
   "metadata": {},
   "outputs": [
    {
     "data": {
      "text/plain": [
       "0.7662337662337663"
      ]
     },
     "execution_count": 56,
     "metadata": {},
     "output_type": "execute_result"
    }
   ],
   "source": [
    "grid_XGB = xgboost.XGBClassifier(**results_XGB.best_params_,n_estimators = 100, random_state=42)\n",
    "grid_XGB.fit(X_train, y_train)\n",
    "XGB_predictions = grid_XGB.predict(X_test)\n",
    "\n",
    "from sklearn.metrics import accuracy_score\n",
    "accuracy_score(y_test, XGB_predictions)"
   ]
  },
  {
   "cell_type": "code",
   "execution_count": null,
   "metadata": {},
   "outputs": [],
   "source": [
    "xgb_reg = xgboost.XGBRegressor(random_state=42)\n",
    "xgb_reg.fit(X_train, y_train)\n",
    "y_pred = xgb_reg.predict(X_val)\n",
    "val_error = mean_squared_error(y_val, y_pred) # Not shown\n",
    "print(\"Validation MSE:\", val_error)"
   ]
  },
  {
   "cell_type": "markdown",
   "metadata": {},
   "source": [
    "## 8. Resultados\n",
    "Crea un series con los resultados y sus algoritmos, ordenándolos de mayor a menor"
   ]
  },
  {
   "cell_type": "code",
   "execution_count": 57,
   "metadata": {},
   "outputs": [],
   "source": [
    "accuracies = [\n",
    "            accuracy_score(y_test, bag_predictions),\n",
    "            accuracy_score(y_test, rf_predictions),\n",
    "            accuracy_score(y_test, ada_predictions),\n",
    "            accuracy_score(y_test, gradBoost_predictions),\n",
    "            accuracy_score(y_test, XGB_predictions)]"
   ]
  },
  {
   "cell_type": "code",
   "execution_count": 58,
   "metadata": {},
   "outputs": [],
   "source": [
    "algoritmos = ['Bagging', 'Random Forest', 'AdaBoost', 'GradientBoost',\n",
    "             'XGBoost']"
   ]
  },
  {
   "cell_type": "code",
   "execution_count": 62,
   "metadata": {},
   "outputs": [],
   "source": [
    "df_resultados = pd.DataFrame(zip(algoritmos, accuracies),\n",
    "                             columns=['Algoritmo', 'Precision'])"
   ]
  },
  {
   "cell_type": "code",
   "execution_count": 63,
   "metadata": {},
   "outputs": [
    {
     "data": {
      "text/html": [
       "<div>\n",
       "<style scoped>\n",
       "    .dataframe tbody tr th:only-of-type {\n",
       "        vertical-align: middle;\n",
       "    }\n",
       "\n",
       "    .dataframe tbody tr th {\n",
       "        vertical-align: top;\n",
       "    }\n",
       "\n",
       "    .dataframe thead th {\n",
       "        text-align: right;\n",
       "    }\n",
       "</style>\n",
       "<table border=\"1\" class=\"dataframe\">\n",
       "  <thead>\n",
       "    <tr style=\"text-align: right;\">\n",
       "      <th></th>\n",
       "      <th>Algoritmo</th>\n",
       "      <th>Precision</th>\n",
       "    </tr>\n",
       "  </thead>\n",
       "  <tbody>\n",
       "    <tr>\n",
       "      <th>0</th>\n",
       "      <td>Bagging</td>\n",
       "      <td>0.805195</td>\n",
       "    </tr>\n",
       "    <tr>\n",
       "      <th>1</th>\n",
       "      <td>Random Forest</td>\n",
       "      <td>0.792208</td>\n",
       "    </tr>\n",
       "    <tr>\n",
       "      <th>2</th>\n",
       "      <td>AdaBoost</td>\n",
       "      <td>0.792208</td>\n",
       "    </tr>\n",
       "    <tr>\n",
       "      <th>3</th>\n",
       "      <td>GradientBoost</td>\n",
       "      <td>0.779221</td>\n",
       "    </tr>\n",
       "    <tr>\n",
       "      <th>4</th>\n",
       "      <td>XGBoost</td>\n",
       "      <td>0.766234</td>\n",
       "    </tr>\n",
       "  </tbody>\n",
       "</table>\n",
       "</div>"
      ],
      "text/plain": [
       "       Algoritmo  Precision\n",
       "0        Bagging   0.805195\n",
       "1  Random Forest   0.792208\n",
       "2       AdaBoost   0.792208\n",
       "3  GradientBoost   0.779221\n",
       "4        XGBoost   0.766234"
      ]
     },
     "execution_count": 63,
     "metadata": {},
     "output_type": "execute_result"
    }
   ],
   "source": [
    "df_resultados"
   ]
  },
  {
   "cell_type": "code",
   "execution_count": 64,
   "metadata": {},
   "outputs": [
    {
     "data": {
      "text/html": [
       "<div>\n",
       "<style scoped>\n",
       "    .dataframe tbody tr th:only-of-type {\n",
       "        vertical-align: middle;\n",
       "    }\n",
       "\n",
       "    .dataframe tbody tr th {\n",
       "        vertical-align: top;\n",
       "    }\n",
       "\n",
       "    .dataframe thead th {\n",
       "        text-align: right;\n",
       "    }\n",
       "</style>\n",
       "<table border=\"1\" class=\"dataframe\">\n",
       "  <thead>\n",
       "    <tr style=\"text-align: right;\">\n",
       "      <th></th>\n",
       "      <th>Algoritmo</th>\n",
       "      <th>Precision</th>\n",
       "    </tr>\n",
       "  </thead>\n",
       "  <tbody>\n",
       "    <tr>\n",
       "      <th>4</th>\n",
       "      <td>XGBoost</td>\n",
       "      <td>0.766234</td>\n",
       "    </tr>\n",
       "    <tr>\n",
       "      <th>3</th>\n",
       "      <td>GradientBoost</td>\n",
       "      <td>0.779221</td>\n",
       "    </tr>\n",
       "    <tr>\n",
       "      <th>1</th>\n",
       "      <td>Random Forest</td>\n",
       "      <td>0.792208</td>\n",
       "    </tr>\n",
       "    <tr>\n",
       "      <th>2</th>\n",
       "      <td>AdaBoost</td>\n",
       "      <td>0.792208</td>\n",
       "    </tr>\n",
       "    <tr>\n",
       "      <th>0</th>\n",
       "      <td>Bagging</td>\n",
       "      <td>0.805195</td>\n",
       "    </tr>\n",
       "  </tbody>\n",
       "</table>\n",
       "</div>"
      ],
      "text/plain": [
       "       Algoritmo  Precision\n",
       "4        XGBoost   0.766234\n",
       "3  GradientBoost   0.779221\n",
       "1  Random Forest   0.792208\n",
       "2       AdaBoost   0.792208\n",
       "0        Bagging   0.805195"
      ]
     },
     "execution_count": 64,
     "metadata": {},
     "output_type": "execute_result"
    }
   ],
   "source": [
    "df_resultados.sort_values('Precision')"
   ]
  }
 ],
 "metadata": {
  "kernelspec": {
   "display_name": "Python 3",
   "language": "python",
   "name": "python3"
  },
  "language_info": {
   "codemirror_mode": {
    "name": "ipython",
    "version": 3
   },
   "file_extension": ".py",
   "mimetype": "text/x-python",
   "name": "python",
   "nbconvert_exporter": "python",
   "pygments_lexer": "ipython3",
   "version": "3.8.3"
  }
 },
 "nbformat": 4,
 "nbformat_minor": 4
}
