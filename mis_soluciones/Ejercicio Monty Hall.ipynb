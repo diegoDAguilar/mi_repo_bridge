{
 "cells": [
  {
   "cell_type": "markdown",
   "metadata": {},
   "source": [
    "![imagen](./img/monty_hall.jpg)\n",
    "# Ejercicio Monty Hall\n",
    "Implementa un programa que simule el problema de las puertas del concurso de Monty Hall. El programa tendrá un parámetro (cambiar o no cambiar puerta).\n",
    "\n",
    "Una vez lo tengas creado, ejecútalo iterativamente, primero cambiando la puerta, y luego sin cambiar, para así observar cuántas veces aciertas o te equivocas en cada caso.\n",
    "\n",
    "Recuerda que en el programa hay tres puertas, en una hay un coche y en las otras dos hay cabras. El concursante elige una puerta, y acto seguido el presentador abre otra puerta donde hay una cabra. A continuación el presentador pregunta si el concursante quiere continuar con la decisión original, o cambiar de puerta. ¿Qué harías? Demuestra tu hipótesis con código y estadística."
   ]
  },
  {
   "cell_type": "code",
   "execution_count": 100,
   "metadata": {},
   "outputs": [
    {
     "name": "stdout",
     "output_type": "stream",
     "text": [
      "Has ganado 66 veces\n"
     ]
    }
   ],
   "source": [
    "# Para elegir una puerta aleatoriamente utiliza el siguiente codigo\n",
    "# Escoge aleatoriamente un numero del 1 al 3, ambos incluidos.\n",
    "import numpy as np\n",
    "\n",
    "def abrir_puerta_cabra(puerta_correcta, eleccion):\n",
    "    puertas = range(1,4)\n",
    "    cabra = [p for p in puertas if p not in [puerta_correcta, eleccion]]\n",
    "    \n",
    "    return cabra[0]\n",
    "\n",
    "def abrir_puerta(puerta_correcta, eleccion):\n",
    "    return eleccion == puerta_correcta\n",
    "\n",
    "def cambiar_puerta(eleccion, puerta_cabra):\n",
    "    puertas = range(1,4)\n",
    "    cabra = [p for p in puertas if p not in [puerta_cabra, eleccion]]\n",
    "    \n",
    "    return cabra[0]\n",
    "\n",
    "def monty_hall(ganar):\n",
    "    puerta = np.random.randint(1,4)\n",
    "    #print('Bienvenido, concursante. Elige una puerta')\n",
    "    #eleccion = int(input())\n",
    "    eleccion = np.random.randint(1,4)\n",
    "    #print('Okey, ahora abro yo una puerta')\n",
    "    puerta_cabra = abrir_puerta_cabra(puerta, eleccion)\n",
    "    #print(f'Te abro la puerta {puerta_cabra}')\n",
    "    #print('Quieres cambiar de puerta?(y/n)')\n",
    "\n",
    "    #cambio_eleccion = input()\n",
    "    if ganar:\n",
    "        cambio_eleccion = 'y'\n",
    "    else:\n",
    "        cambio_eleccion = 'no, porque no se estadistica'\n",
    "    #print(f'Puerta elegida: {eleccion}, puerta_correcta: {puerta},\\\n",
    "    #puerta_cabra: {puerta_cabra}')\n",
    "    if cambio_eleccion in ['y', 'Y', 'S', 's']:\n",
    "        #print('Okey, pues cambiamos de puerta y abrimos')\n",
    "        eleccion = cambiar_puerta(eleccion, puerta_cabra)\n",
    "        ganador = abrir_puerta(puerta, eleccion)\n",
    "        #print(f'Puerta elegida: {eleccion}, puerta_correcta: {puerta},\\\n",
    "    #puerta_cabra: {puerta_cabra}')\n",
    "    else:\n",
    "        #print('Okey, pues abrimos')\n",
    "        ganador = abrir_puerta(puerta, eleccion)\n",
    "        #print(f'Puerta elegida: {decision}, puerta_correcta: {puerta},\\\n",
    "    #puerta_cabra: {puerta_cabra}')\n",
    "\n",
    "    if ganador:\n",
    "        #print('Has ganado!!')\n",
    "        pass\n",
    "    else:\n",
    "        pass\n",
    "        #print('Has perdido!')\n",
    "    return ganador\n",
    "\n",
    "acum = 0\n",
    "for i in range(100):\n",
    "    resultado = monty_hall(ganar = True)\n",
    "    if resultado:\n",
    "        acum+=1\n",
    "print(f'Has ganado {acum} veces')\n",
    "    "
   ]
  }
 ],
 "metadata": {
  "kernelspec": {
   "display_name": "Python 3",
   "language": "python",
   "name": "python3"
  },
  "language_info": {
   "codemirror_mode": {
    "name": "ipython",
    "version": 3
   },
   "file_extension": ".py",
   "mimetype": "text/x-python",
   "name": "python",
   "nbconvert_exporter": "python",
   "pygments_lexer": "ipython3",
   "version": "3.8.3"
  }
 },
 "nbformat": 4,
 "nbformat_minor": 4
}
