{
 "cells": [
  {
   "cell_type": "markdown",
   "metadata": {},
   "source": [
    "# Entrega Ramp Up\n"
   ]
  },
  {
   "cell_type": "markdown",
   "metadata": {},
   "source": [
    "## Ejercicio 1\n",
    "#### Crear un programa que calcule la cuota de una hipoteca\n",
    "\n",
    "Las cuotas hipotecarias se calculan utilizando la fórmula del interés frances. El objetivo del ejercicio es crear un programa que solicite al usuario los datos de su hipoteca (cantidad, intereses, y plazo en años) y le devuelva la cuota mensual a pagar\n",
    "\n",
    "La formula del interés frances es la siguiente:\n",
    "\\begin{align*}\n",
    "C=V \\frac{(1+i)^n i}{(1+i)^n -1}\n",
    "\\end{align*}\n",
    "\n",
    "\n",
    "    C = Cuota a pagar\n",
    "    V = Cantidad del préstamo hipotecario\n",
    "    i = tipo de interés del período\n",
    "    n = número de cuotas\n",
    "\n"
   ]
  },
  {
   "cell_type": "code",
   "execution_count": 67,
   "metadata": {},
   "outputs": [
    {
     "name": "stdin",
     "output_type": "stream",
     "text": [
      "Cantidad del prestamo 300000\n",
      "Interes anual del periodo: 2\n",
      "Tiempo en anios a pagar 20\n"
     ]
    },
    {
     "name": "stdout",
     "output_type": "stream",
     "text": [
      "1517.65\n"
     ]
    }
   ],
   "source": [
    "def calculo_cuota(v, i, n):\n",
    "    # aplica los cambios para las mensualidades\n",
    "    i = (i * 0.01)/12\n",
    "    n = n * 12\n",
    "    resultado =  v*((1+i)**n*i)/((1+i)**n - 1)\n",
    "    return float('{:.4f}'.format(resultado))\n",
    "\n",
    "# V = 300.000\n",
    "# i = 2%\n",
    "# n = 20*12 20 anios\n",
    "# C = 1500 aprox\n",
    "\n",
    "v = float(input('Cantidad del prestamo'))\n",
    "i = float(input('Interes anual del periodo:'))\n",
    "n = float(input('Tiempo en anios a pagar'))\n",
    "\n",
    "print(calculo_cuota(v,i,n))"
   ]
  },
  {
   "cell_type": "markdown",
   "metadata": {},
   "source": [
    "## Ejercicio 2\n",
    "#### Crear un programa que calcule el plan de amortización\n",
    "\n",
    "El objetivo del ejercicio es crear un programa que solicite al usuario los datos de su hipoteca (cantidad, intereses, y plazo en años) y le devuelva el plan de amortización.\n",
    "\n",
    "En cada cuota se pagan intereses por el capital restante, y se devuelve capital hasta la cuota mensual. El capital restante ha de ser actualizado restandole el capital devuelto.\n",
    "\n",
    "Salida ejemplo:\n",
    "\n",
    "mes  cuota  intereses  principal  pendiente   \n",
    "\n",
    "0  758.89   450.00   308.89   179691.11 "
   ]
  },
  {
   "cell_type": "code",
   "execution_count": 1,
   "metadata": {},
   "outputs": [
    {
     "name": "stdin",
     "output_type": "stream",
     "text": [
      "cantidad:  30000\n",
      "interes:  8\n",
      "plazo(anios):  5\n"
     ]
    },
    {
     "name": "stdout",
     "output_type": "stream",
     "text": [
      "Mes  Cuota  Intereses  Capital  Pendiente\n",
      "0    608.29   200.00   408.29   29591.71\n",
      "1    608.29   197.28   411.01   29180.69\n",
      "2    608.29   194.54   413.75   28766.94\n",
      "3    608.29   191.78   416.51   28350.43\n",
      "4    608.29   189.00   419.29   27931.14\n",
      "5    608.29   186.21   422.08   27509.06\n",
      "6    608.29   183.39   424.90   27084.16\n",
      "7    608.29   180.56   427.73   26656.43\n",
      "8    608.29   177.71   430.58   26225.84\n",
      "9    608.29   174.84   433.45   25792.39\n",
      "10   608.29   171.95   436.34   25356.05\n",
      "11   608.29   169.04   439.25   24916.80\n",
      "12   608.29   166.11   442.18   24474.62\n",
      "13   608.29   163.16   445.13   24029.49\n",
      "14   608.29   160.20   448.10   23581.39\n",
      "15   608.29   157.21   451.08   23130.31\n",
      "16   608.29   154.20   454.09   22676.22\n",
      "17   608.29   151.17   457.12   22219.11\n",
      "18   608.29   148.13   460.16   21758.94\n",
      "19   608.29   145.06   463.23   21295.71\n",
      "20   608.29   141.97   466.32   20829.39\n",
      "21   608.29   138.86   469.43   20359.96\n",
      "22   608.29   135.73   472.56   19887.40\n",
      "23   608.29   132.58   475.71   19411.69\n",
      "24   608.29   129.41   478.88   18932.81\n",
      "25   608.29   126.22   482.07   18450.74\n",
      "26   608.29   123.00   485.29   17965.45\n",
      "27   608.29   119.77   488.52   17476.93\n",
      "28   608.29   116.51   491.78   16985.15\n",
      "29   608.29   113.23   495.06   16490.09\n",
      "30   608.29   109.93   498.36   15991.73\n",
      "31   608.29   106.61   501.68   15490.05\n",
      "32   608.29   103.27   505.02   14985.03\n",
      "33   608.29   99.90    508.39   14476.64\n",
      "34   608.29   96.51    511.78   13964.86\n",
      "35   608.29   93.10    515.19   13449.66\n",
      "36   608.29   89.66    518.63   12931.04\n",
      "37   608.29   86.21    522.08   12408.95\n",
      "38   608.29   82.73    525.57   11883.39\n",
      "39   608.29   79.22    529.07   11354.32\n",
      "40   608.29   75.70    532.60   10821.72\n",
      "41   608.29   72.14    536.15   10285.57\n",
      "42   608.29   68.57    539.72   9745.85\n",
      "43   608.29   64.97    543.32   9202.53\n",
      "44   608.29   61.35    546.94   8655.59\n",
      "45   608.29   57.70    550.59   8105.00\n",
      "46   608.29   54.03    554.26   7550.75\n",
      "47   608.29   50.34    557.95   6992.79\n",
      "48   608.29   46.62    561.67   6431.12\n",
      "49   608.29   42.87    565.42   5865.70\n",
      "50   608.29   39.10    569.19   5296.51\n",
      "51   608.29   35.31    572.98   4723.53\n",
      "52   608.29   31.49    576.80   4146.73\n",
      "53   608.29   27.64    580.65   3566.08\n",
      "54   608.29   23.77    584.52   2981.57\n",
      "55   608.29   19.88    588.41   2393.15\n",
      "56   608.29   15.95    592.34   1800.81\n",
      "57   608.29   12.01    596.29   1204.53\n",
      "58   608.29   8.03     600.26   604.27\n",
      "59   608.29   4.03     604.26   0.00\n"
     ]
    }
   ],
   "source": [
    "def calculo_cuota(v, i, n):\n",
    "    # aplica los cambios para las mensualidades\n",
    "    i = (i * 0.01)/12\n",
    "    n = n * 12\n",
    "    resultado =  v*((1+i)**n*i)/((1+i)**n - 1)\n",
    "    return float('{:.4f}'.format(resultado))\n",
    "\n",
    "def calculo_amortizacion(cantidad, interes_anual, plazo):\n",
    "    print('Mes ', 'Cuota ', 'Intereses ', 'Capital ', 'Pendiente')\n",
    "    # Adquieres una deuda igual a la cantidad prestada\n",
    "    deuda = cantidad\n",
    "    pago_interes, pago_capital = 0,0\n",
    "    # cuotas tiene que ser un entero, para despues que valga el range()\n",
    "    cuotas_totales = int(plazo*12)\n",
    "    pago_cuota = calculo_cuota(cantidad, interes_anual, plazo)\n",
    "    \n",
    "    for m in range(cuotas_totales):\n",
    "\n",
    "        pago_interes = deuda * interes_anual/12*.01\n",
    "        pago_capital = pago_cuota - pago_interes\n",
    "        deuda = deuda - pago_capital\n",
    "        fila = '{:<4} {:<8.2f} {:<8.2f} {:<8.2f} {:.2f}'.format(m,pago_cuota, pago_interes, pago_capital, deuda)\n",
    "        print(fila)\n",
    "\n",
    "\n",
    "# Descomentar para probar test \n",
    "#cantidad_test = 150000\n",
    "#interes_anual_test = 2\n",
    "#plazo_test = 25\n",
    "#calculo_amortizacion(cantidad_test, interes_anual_test, plazo_test)\n",
    "\n",
    "\n",
    "\n",
    "cantidad = float(input('cantidad: '))\n",
    "interes_anual = float(input('interes: '))\n",
    "plazo = float(input('plazo(anios): '))\n",
    "calculo_amortizacion(cantidad, interes_anual, plazo)\n"
   ]
  },
  {
   "cell_type": "markdown",
   "metadata": {},
   "source": [
    "## Ejercicio 3\n",
    "#### Crear un programa que resuelva una ecuacción de segundo grado\n",
    "\n",
    "El objetivo del programa es resolver la ecuacción de sgundo grado \n",
    "\n",
    "\\begin{align*}\n",
    "ax^2+bx+c = 0\n",
    "\\end{align*}\n",
    "\n",
    "Pasando como parámetros los coeficientes de la ecuacción. La resolución de la ecuacción es la siguiente:\n",
    "\n",
    "\\begin{align*}\n",
    "x=\\frac{-b \\pm \\sqrt{b^2-4ac}}{2a}\n",
    "\\end{align*}\n",
    "\n",
    "Para realizar este programa tienes que utilizar el metodo sqrt() para calcular la raiz cuadrada. Para ello tienes que importar el módulo math. Así que tu programa debería empezar con ```ìmport math```\n"
   ]
  },
  {
   "cell_type": "code",
   "execution_count": 53,
   "metadata": {},
   "outputs": [
    {
     "name": "stdout",
     "output_type": "stream",
     "text": [
      "('No tiene sol', 'No tiene sol')\n",
      "(-0.09814015729808052, -30.568526509368585)\n",
      "(0.0, -2.4864864864864864)\n"
     ]
    }
   ],
   "source": [
    "import math\n",
    "\n",
    "def eq_gr2(a,b,c):\n",
    "    # la eq de segundo grado puede tener 2 sol\n",
    "    # o puede no tener alguna\n",
    "    s1 = 'No tiene sol'\n",
    "    s2 = 'No tiene sol'\n",
    "    \n",
    "    try:\n",
    "        s1 = (-b + math.sqrt(b**2 - 4*a*c)) / (2*a)\n",
    "    except:\n",
    "        pass\n",
    "    \n",
    "    try:\n",
    "        s2 = (-b - math.sqrt(b**2 - 4*a*c)) / (2*a)\n",
    "    except:\n",
    "        pass\n",
    "    \n",
    "    return s1, s2\n",
    "\n",
    "# casos test\n",
    "print(eq_gr2(3,2,9))\n",
    "print(eq_gr2(3,92,9))\n",
    "print(eq_gr2(37,92,0))"
   ]
  },
  {
   "cell_type": "markdown",
   "metadata": {},
   "source": [
    "## Ejercicio 4\n",
    "#### Crear un programa que calcule el average\n",
    "\n",
    "El programa pedirá al usuario que introduzca numeros. En primer lugar le pedirá que indique cuantos números se quieren introducir, y enseñara un prompt para incluirlos, y calculará el average.\n",
    "\n"
   ]
  },
  {
   "cell_type": "code",
   "execution_count": 73,
   "metadata": {},
   "outputs": [
    {
     "name": "stdin",
     "output_type": "stream",
     "text": [
      "Buenas. Cuantos numeros quiere introducir?\n",
      " 4\n",
      " 21321\n",
      " 3231.5\n",
      " 2131231.9278272\n",
      " 2\n"
     ]
    },
    {
     "name": "stdout",
     "output_type": "stream",
     "text": [
      "La media es 538946.607\n"
     ]
    }
   ],
   "source": [
    "def introduzca_y_average():\n",
    "    nums = int(input('Buenas. Cuantos numeros quiere introducir?\\n'))\n",
    "    acum = 0.\n",
    "    for _ in range(nums):\n",
    "        num = float(input())\n",
    "        acum += num\n",
    "\n",
    "    return float('{:.4f}'.format(acum/nums))\n",
    "\n",
    "print('La media es', introduzca_y_average())"
   ]
  },
  {
   "cell_type": "markdown",
   "metadata": {},
   "source": [
    "## Ejercicio 5\n",
    "#### Crear un programa que calcule el average II\n",
    "\n",
    "El programa pedirá que se diga cuantos números se quieren introducir, y enseñara un prompt para incluirl número a número en una lista, y calcule después el average.\n"
   ]
  },
  {
   "cell_type": "code",
   "execution_count": 74,
   "metadata": {},
   "outputs": [
    {
     "name": "stdin",
     "output_type": "stream",
     "text": [
      "Buenas. Cuantos numeros quiere introducir?\n",
      " 4\n",
      " 3232\n",
      " 383.6\n",
      " 324.7\n",
      " 333\n"
     ]
    },
    {
     "name": "stdout",
     "output_type": "stream",
     "text": [
      "La media es 1068.325\n"
     ]
    }
   ],
   "source": [
    "def introduzca_y_average_v2():\n",
    "    nums = int(input('Buenas. Cuantos numeros quiere introducir?\\n'))\n",
    "    acum = []\n",
    "    for _ in range(nums):\n",
    "        num = float(input())\n",
    "        acum.append(num)\n",
    "    \n",
    "    return float('{:.4f}'.format(sum(acum)/len(acum)))\n",
    "\n",
    "print('La media es', introduzca_y_average())"
   ]
  },
  {
   "cell_type": "markdown",
   "metadata": {},
   "source": [
    "## Ejercicio 6\n",
    "#### Write a Python program to convert a list of characters into a string.\n",
    "\n",
    "Sample list : ['a','b','c','d']\n",
    "\n",
    "Expected output : abcd"
   ]
  },
  {
   "cell_type": "code",
   "execution_count": 75,
   "metadata": {},
   "outputs": [
    {
     "name": "stdout",
     "output_type": "stream",
     "text": [
      "abcd\n"
     ]
    }
   ],
   "source": [
    "l = ['a', 'b', 'c', 'd']\n",
    "\n",
    "\n",
    "def list_to_str(e):\n",
    "    return ''.join(e)\n",
    "        \n",
    "print(list_to_str(l))"
   ]
  },
  {
   "cell_type": "markdown",
   "metadata": {},
   "source": [
    "## Ejercicio 7\n",
    "#### First and last 5\n",
    "Write a Python program to generate and print a list of first and last 5 elements where the values are square of numbers between 1 and 30 (both included). "
   ]
  },
  {
   "cell_type": "code",
   "execution_count": 76,
   "metadata": {},
   "outputs": [
    {
     "name": "stdout",
     "output_type": "stream",
     "text": [
      "[1, 4, 9, 16, 25, 676, 729, 784, 841, 900]\n"
     ]
    }
   ],
   "source": [
    "def generate():\n",
    "    l = list(range(1,31))\n",
    "    for k,v in enumerate(l):\n",
    "        l[k] = v**2\n",
    "    # Devuelve una lista con los primeros y los ultimos 5 elems\n",
    "    return l[:5] + l[-5:]\n",
    "my_l = generate()\n",
    "print(my_l)"
   ]
  },
  {
   "cell_type": "markdown",
   "metadata": {},
   "source": [
    "## Ejercicio 8\n",
    "#### Interactuando con listas\n",
    "\n",
    "From given list gadgets = [“Mobile”, “Laptop”, 100, “Camera”, 310.28, “Speakers”, 27.00,\n",
    "“Television”, 1000, “Laptop Case”, “Camera Lens”]\n",
    "\n",
    "a)create separate lists of strings and numbers.  \n",
    "\n",
    "b)Sort the strings list in ascending order  \n",
    "\n",
    "c)Sort the strings list in descending order  \n",
    "\n",
    "d)Sort the number list from lowest to highest  \n",
    "\n",
    "e)Sort the number list from highest to lowest"
   ]
  },
  {
   "cell_type": "code",
   "execution_count": 77,
   "metadata": {},
   "outputs": [
    {
     "name": "stdout",
     "output_type": "stream",
     "text": [
      "lista str ['Mobile', 'Laptop', 'Camera', 'Speakers', 'Television', 'Laptop Case', 'Camera Lens']\n",
      "lista num [100, 310.28, 27.0, 1000]\n",
      "lista str ordenada asc ['Camera', 'Camera Lens', 'Laptop', 'Laptop Case', 'Mobile', 'Speakers', 'Television']\n",
      "lista num ordenada asc [27.0, 100, 310.28, 1000]\n",
      "lista str ordenada des ['Television', 'Speakers', 'Mobile', 'Laptop Case', 'Laptop', 'Camera Lens', 'Camera']\n",
      "lista num ordenada des [1000, 310.28, 100, 27.0]\n"
     ]
    }
   ],
   "source": [
    "gadgets = [\"Mobile\", \"Laptop\", 100, \"Camera\", 310.28, \"Speakers\", 27.00, \"Television\", 1000, \"Laptop Case\", \"Camera Lens\"]\n",
    "\n",
    "l_str = []\n",
    "l_num = []\n",
    "\n",
    "# crear listas de tipo str, num\n",
    "for g in gadgets:\n",
    "    if type(g) == str:\n",
    "        l_str.append(g)\n",
    "    elif type(g) in [int, float]:\n",
    "        l_num.append(g)\n",
    "    else:\n",
    "        pass\n",
    "print('lista str', l_str)\n",
    "print('lista num', l_num)\n",
    "\n",
    "# sort\n",
    "\n",
    "l_str.sort()\n",
    "l_num.sort()\n",
    "\n",
    "print('lista str ordenada asc', l_str)\n",
    "print('lista num ordenada asc', l_num)\n",
    "\n",
    "# reverse sort\n",
    "\n",
    "l_str.reverse()\n",
    "l_num.reverse()\n",
    "\n",
    "print('lista str ordenada des', l_str)\n",
    "print('lista num ordenada des', l_num)"
   ]
  },
  {
   "cell_type": "markdown",
   "metadata": {},
   "source": [
    "## Ejercicio 9\n",
    "#### Get first, second best scores from the list.\n",
    "\n",
    "List may contain duplicates.\n",
    "\n",
    "Ex: [86,86,85,85,85,83,23,45,84,1,2,0] => should get 86, 85"
   ]
  },
  {
   "cell_type": "code",
   "execution_count": 47,
   "metadata": {},
   "outputs": [
    {
     "name": "stdout",
     "output_type": "stream",
     "text": [
      "[86, 85]\n"
     ]
    }
   ],
   "source": [
    "def get_first_sec_highest(l):\n",
    "    # remove duplicates\n",
    "    s = set(l)\n",
    "    l = list(s)\n",
    "    \n",
    "    l.sort(reverse=True)\n",
    "    return l[:2]\n",
    "\n",
    "l = [86,86,85,85,85,83,23,45,84,1,2,0]\n",
    "\n",
    "print(get_first_sec_highest(l))"
   ]
  },
  {
   "cell_type": "markdown",
   "metadata": {},
   "source": [
    "## Ejercicio 10\n",
    "#### Write a program that detects if a string is a palindrome\n",
    "Ask the user for a string and print out whether this string is a palindrome or not. (A palindrome is a string that reads the same forwards and backwards.)"
   ]
  },
  {
   "cell_type": "code",
   "execution_count": 78,
   "metadata": {},
   "outputs": [
    {
     "name": "stdout",
     "output_type": "stream",
     "text": [
      "True\n",
      "False\n",
      "True\n"
     ]
    }
   ],
   "source": [
    "def is_palindrome(txt1):\n",
    "    '''Busca palindromos, no diferencia mayusc de minisc'''\n",
    "    txt1 = txt1.lower()\n",
    "    txt2 = txt1[::-1]\n",
    "    \n",
    "    return txt1 == txt2\n",
    "\n",
    "print(is_palindrome('Ho-oh'))\n",
    "print(is_palindrome('HOLA'))\n",
    "print(is_palindrome('HAah'))\n",
    "\n",
    "    "
   ]
  }
 ],
 "metadata": {
  "kernelspec": {
   "display_name": "Python 3",
   "language": "python",
   "name": "python3"
  },
  "language_info": {
   "codemirror_mode": {
    "name": "ipython",
    "version": 3
   },
   "file_extension": ".py",
   "mimetype": "text/x-python",
   "name": "python",
   "nbconvert_exporter": "python",
   "pygments_lexer": "ipython3",
   "version": "3.8.3"
  }
 },
 "nbformat": 4,
 "nbformat_minor": 4
}
