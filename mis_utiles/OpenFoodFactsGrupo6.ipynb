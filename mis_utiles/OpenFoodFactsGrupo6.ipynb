{
 "cells": [
  {
   "cell_type": "code",
   "execution_count": 1,
   "metadata": {},
   "outputs": [],
   "source": [
    "# Ejecutar la primera vez para instalar la API de openfoodfacts\n",
    "# fuente: https://github.com/openfoodfacts/openfoodfacts-python\n",
    "\n",
    "\n",
    "#!pip install openfoodfacts"
   ]
  },
  {
   "cell_type": "code",
   "execution_count": null,
   "metadata": {
    "scrolled": false
   },
   "outputs": [],
   "source": [
    "import openfoodfacts\n",
    "\n",
    "# Sacar todas las marcas en OpenFoodFacts\n",
    "for i in openfoodfacts.facets.get_brands():\n",
    "    print(i['name'])"
   ]
  },
  {
   "cell_type": "code",
   "execution_count": 3,
   "metadata": {},
   "outputs": [
    {
     "name": "stdout",
     "output_type": "stream",
     "text": [
      "0:  Macarrones a la bolognesa\n",
      "1:  Turrón chocolate crujiente\n",
      "2:  Lenteja pardina\n",
      "3:  Pizza barbacoa\n",
      "4:  Bocaditos de queso\n",
      "5:  Puré de patatas\n",
      "6:  Cuquis\n",
      "7:  Salteado De Verduras Asadas Congelado\n",
      "8:  Digest. Infusión\n",
      "9:  Jamon y queso\n",
      "10:  Tortilla de patata\n",
      "11:  Ensalada queso de cabra\n",
      "12:  Water melon\n",
      "13:  Pica Mix\n",
      "14:  Ensalada mil islas, surimi y salsa rosa\n",
      "15:  Tortilla fresca de papas con chorizo con aceite de oliva\n",
      "16:  Lasaña de carne a la barbacoa\n",
      "17:  Ensalada de patata\n",
      "18:  Pizza reina con crema de queso fresco\n",
      "19:  Sopa instantánea verduras\n",
      "20:  Pizza tomate y queso\n",
      "21:  Salmon al curry con arroz\n",
      "22:  Caldo de escudella\n",
      "23:  Pizza ibérica\n"
     ]
    }
   ],
   "source": [
    "# Sacar 24 productos Hacendado\n",
    "for i,p in enumerate(openfoodfacts.products.get_by_facets({\n",
    "    'brand': 'Hacendado'\n",
    "})):\n",
    "    print(f'{i}: ',p['product_name'])"
   ]
  },
  {
   "cell_type": "code",
   "execution_count": null,
   "metadata": {},
   "outputs": [],
   "source": [
    "# Sacar TODOS los productos ElPozo que además provengan de España\n",
    "# Ojo con poner marcas que tienen muchos productos\n",
    "# Comprobar productos/marca en:\n",
    "# https://es.openfoodfacts.org/marcas\n",
    "\n",
    "for p in openfoodfacts.products.get_all_by_facets({\n",
    "    'brand': 'Elpozo',\n",
    "    'country':'spain'\n",
    "}):\n",
    "    try:\n",
    "        if p['product_name']:\n",
    "            print(p['product_name'])\n",
    "        else:\n",
    "            print('ERROR*********: Key sin valor') #TODO\n",
    "    except KeyError:\n",
    "        print('ERROR*********: No se encuentra la key') #TODO"
   ]
  },
  {
   "cell_type": "code",
   "execution_count": 6,
   "metadata": {},
   "outputs": [
    {
     "name": "stdout",
     "output_type": "stream",
     "text": [
      "0:  Bocaditos de queso\n",
      "1:  Yogur Líquido Aromatizado De Lima-Limón\n",
      "2:  Yogur Sabor Limón hacendado\n",
      "3:  4 quesos rayado\n",
      "ERROR*********: Key sin valor\n",
      "5:  Queso fresco\n",
      "6:  QUESO GORGONZOLA\n",
      "7:  Queso fundido rallado en polvo\n",
      "8:  Emmental Gratinar\n",
      "9:  Queso gorgonzola\n",
      "10:  Queso flamengo\n",
      "11:  Griego natural\n",
      "12:  Natural beber con azúcar de caña\n",
      "13:  Queso blanco pasteurizado con Salmón\n",
      "14:  Bifidus\n",
      "15:  Yogur bífidus 0%\n",
      "16:  Yogurt limon\n",
      "17:  Emmental gratinar\n",
      "18:  Queso rayado 4 quesos\n",
      "19:  Mascarpone\n",
      "20:  Queso fresco Burgos natural\n",
      "21:  Bifidus Kiwi Cereales\n",
      "22:  Queso fresco batido desnatado\n",
      "23:  Queso fresco Burgos natural\n"
     ]
    }
   ],
   "source": [
    "# # Sacar 24 productos Hacendado que sean del grupo de los lácteos\n",
    "# Comprobar productos/categoria en:\n",
    "# https://es-en.openfoodfacts.org/categories\n",
    "\n",
    "for i,p in enumerate(openfoodfacts.products.get_by_facets({\n",
    "    'brand': 'Hacendado',\n",
    "    'category':'Fermented milk products'\n",
    "})):\n",
    "    try:\n",
    "        if p['product_name']:\n",
    "            print(f'{i}: ',p['product_name'])\n",
    "        else:\n",
    "            print('ERROR*********: Key sin valor') #TODO\n",
    "    except KeyError:\n",
    "        print('ERROR*********: No se encuentra la key') #TODO"
   ]
  }
 ],
 "metadata": {
  "kernelspec": {
   "display_name": "Python 3",
   "language": "python",
   "name": "python3"
  },
  "language_info": {
   "codemirror_mode": {
    "name": "ipython",
    "version": 3
   },
   "file_extension": ".py",
   "mimetype": "text/x-python",
   "name": "python",
   "nbconvert_exporter": "python",
   "pygments_lexer": "ipython3",
   "version": "3.8.3"
  }
 },
 "nbformat": 4,
 "nbformat_minor": 4
}
